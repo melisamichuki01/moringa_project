{
  "nbformat": 4,
  "nbformat_minor": 0,
  "metadata": {
    "colab": {
      "name": "KNN_Classifier_Implementation",
      "provenance": [],
      "authorship_tag": "ABX9TyNSXVoLmD3zGHMH+wm84K8X",
      "include_colab_link": true
    },
    "kernelspec": {
      "name": "python3",
      "display_name": "Python 3"
    }
  },
  "cells": [
    {
      "cell_type": "markdown",
      "metadata": {
        "id": "view-in-github",
        "colab_type": "text"
      },
      "source": [
        "<a href=\"https://colab.research.google.com/github/melisamichuki01/moringa_project/blob/master/Titanic.ipynb\" target=\"_parent\"><img src=\"https://colab.research.google.com/assets/colab-badge.svg\" alt=\"Open In Colab\"/></a>"
      ]
    },
    {
      "cell_type": "markdown",
      "metadata": {
        "id": "7A1EnsluM6nI",
        "colab_type": "text"
      },
      "source": [
        "# Defining the question"
      ]
    },
    {
      "cell_type": "markdown",
      "metadata": {
        "id": "VlK6CqsOBi6r",
        "colab_type": "text"
      },
      "source": [
        "##The analytical question"
      ]
    },
    {
      "cell_type": "markdown",
      "metadata": {
        "id": "_ow5UpTcBqpF",
        "colab_type": "text"
      },
      "source": [
        "Using the KNN classifier,we are required to make a prediction of who had higher chances of survival."
      ]
    },
    {
      "cell_type": "markdown",
      "metadata": {
        "id": "p-LhKS_UDpDJ",
        "colab_type": "text"
      },
      "source": [
        "## Metric of success"
      ]
    },
    {
      "cell_type": "markdown",
      "metadata": {
        "id": "0_xWhJsgEtsK",
        "colab_type": "text"
      },
      "source": [
        "> * Create a  model that can predict the chances of survival with an accuracy of over 75 %"
      ]
    },
    {
      "cell_type": "markdown",
      "metadata": {
        "id": "hx0DVx9FFQ_W",
        "colab_type": "text"
      },
      "source": [
        "## Understanding the context "
      ]
    },
    {
      "cell_type": "markdown",
      "metadata": {
        "id": "_i44X7joFjGd",
        "colab_type": "text"
      },
      "source": [
        "On April 15, 1912, the largest passenger liner ever made collided with an iceberg during her maiden voyage. When the Titanic sank it killed 1502 out of 2224 passengers and crew. This sensational tragedy shocked the international community and led to better safety regulations for ships. One of the reasons that the shipwreck resulted in such loss of life was that there were not enough lifeboats for the passengers and crew. Although there was some element of luck involved in surviving the sinking, some groups of people were more likely to survive than others.\n",
        "\n",
        "(Source:https://web.stanford.edu/class/archive/cs/cs109/cs109.1166/problem12.html)"
      ]
    },
    {
      "cell_type": "markdown",
      "metadata": {
        "id": "Oe8KaIzWGMJC",
        "colab_type": "text"
      },
      "source": [
        "## Recording the experimental design"
      ]
    },
    {
      "cell_type": "markdown",
      "metadata": {
        "id": "S5mjhO7LGXe_",
        "colab_type": "text"
      },
      "source": [
        "> * Randomly partition each dataset into two parts i.e 80 - 20  sets.\n",
        "\n",
        "> * We will use the train set to create train and test data (i.e. splitting further), then perform K-nearest neighbor classification.\n",
        "\n",
        "> * Compute the accuracy (percentage of correct classification).\n",
        "\n",
        "> * Report the confusion matrix of each classifier.\n",
        "\n",
        "> * Repeat step 1 to step 3 twice, each time splitting the datasets differently i.e. 70-30, 60-40, then noting  the outcomes of  the model.\n",
        "\n",
        "> * Suggest and apply at least one of the optimization techniques that you learned earlier this week."
      ]
    },
    {
      "cell_type": "markdown",
      "metadata": {
        "id": "v-R2UCk2Hc_s",
        "colab_type": "text"
      },
      "source": [
        "## Data relevance "
      ]
    },
    {
      "cell_type": "markdown",
      "metadata": {
        "id": "okIpyJ1ZHmHH",
        "colab_type": "text"
      },
      "source": [
        "The data provided was appropriate for this study"
      ]
    },
    {
      "cell_type": "markdown",
      "metadata": {
        "id": "cLBm6tXiH2d_",
        "colab_type": "text"
      },
      "source": [
        "# Loading our datasets"
      ]
    },
    {
      "cell_type": "code",
      "metadata": {
        "id": "-5z1G_isJAqJ",
        "colab_type": "code",
        "colab": {}
      },
      "source": [
        "# We import pandas to enable us to read in the data \n",
        "\n",
        "import pandas as pd\n",
        "import numpy as np\n"
      ],
      "execution_count": 1,
      "outputs": []
    },
    {
      "cell_type": "code",
      "metadata": {
        "id": "qr9d-kYvCTvK",
        "colab_type": "code",
        "colab": {
          "base_uri": "https://localhost:8080/",
          "height": 228
        },
        "outputId": "f81262d5-9ab5-400e-d851-c73ecbfdbc3d"
      },
      "source": [
        "# Load in the train dataset\n",
        "#-----\n",
        "tdf = pd.read_csv('/content/train (5).csv')\n",
        "tdf.head()"
      ],
      "execution_count": 2,
      "outputs": [
        {
          "output_type": "execute_result",
          "data": {
            "text/html": [
              "<div>\n",
              "<style scoped>\n",
              "    .dataframe tbody tr th:only-of-type {\n",
              "        vertical-align: middle;\n",
              "    }\n",
              "\n",
              "    .dataframe tbody tr th {\n",
              "        vertical-align: top;\n",
              "    }\n",
              "\n",
              "    .dataframe thead th {\n",
              "        text-align: right;\n",
              "    }\n",
              "</style>\n",
              "<table border=\"1\" class=\"dataframe\">\n",
              "  <thead>\n",
              "    <tr style=\"text-align: right;\">\n",
              "      <th></th>\n",
              "      <th>PassengerId</th>\n",
              "      <th>Survived</th>\n",
              "      <th>Pclass</th>\n",
              "      <th>Name</th>\n",
              "      <th>Sex</th>\n",
              "      <th>Age</th>\n",
              "      <th>SibSp</th>\n",
              "      <th>Parch</th>\n",
              "      <th>Ticket</th>\n",
              "      <th>Fare</th>\n",
              "      <th>Cabin</th>\n",
              "      <th>Embarked</th>\n",
              "    </tr>\n",
              "  </thead>\n",
              "  <tbody>\n",
              "    <tr>\n",
              "      <th>0</th>\n",
              "      <td>1</td>\n",
              "      <td>0</td>\n",
              "      <td>3</td>\n",
              "      <td>Braund, Mr. Owen Harris</td>\n",
              "      <td>male</td>\n",
              "      <td>22.0</td>\n",
              "      <td>1</td>\n",
              "      <td>0</td>\n",
              "      <td>A/5 21171</td>\n",
              "      <td>7.2500</td>\n",
              "      <td>NaN</td>\n",
              "      <td>S</td>\n",
              "    </tr>\n",
              "    <tr>\n",
              "      <th>1</th>\n",
              "      <td>2</td>\n",
              "      <td>1</td>\n",
              "      <td>1</td>\n",
              "      <td>Cumings, Mrs. John Bradley (Florence Briggs Th...</td>\n",
              "      <td>female</td>\n",
              "      <td>38.0</td>\n",
              "      <td>1</td>\n",
              "      <td>0</td>\n",
              "      <td>PC 17599</td>\n",
              "      <td>71.2833</td>\n",
              "      <td>C85</td>\n",
              "      <td>C</td>\n",
              "    </tr>\n",
              "    <tr>\n",
              "      <th>2</th>\n",
              "      <td>3</td>\n",
              "      <td>1</td>\n",
              "      <td>3</td>\n",
              "      <td>Heikkinen, Miss. Laina</td>\n",
              "      <td>female</td>\n",
              "      <td>26.0</td>\n",
              "      <td>0</td>\n",
              "      <td>0</td>\n",
              "      <td>STON/O2. 3101282</td>\n",
              "      <td>7.9250</td>\n",
              "      <td>NaN</td>\n",
              "      <td>S</td>\n",
              "    </tr>\n",
              "    <tr>\n",
              "      <th>3</th>\n",
              "      <td>4</td>\n",
              "      <td>1</td>\n",
              "      <td>1</td>\n",
              "      <td>Futrelle, Mrs. Jacques Heath (Lily May Peel)</td>\n",
              "      <td>female</td>\n",
              "      <td>35.0</td>\n",
              "      <td>1</td>\n",
              "      <td>0</td>\n",
              "      <td>113803</td>\n",
              "      <td>53.1000</td>\n",
              "      <td>C123</td>\n",
              "      <td>S</td>\n",
              "    </tr>\n",
              "    <tr>\n",
              "      <th>4</th>\n",
              "      <td>5</td>\n",
              "      <td>0</td>\n",
              "      <td>3</td>\n",
              "      <td>Allen, Mr. William Henry</td>\n",
              "      <td>male</td>\n",
              "      <td>35.0</td>\n",
              "      <td>0</td>\n",
              "      <td>0</td>\n",
              "      <td>373450</td>\n",
              "      <td>8.0500</td>\n",
              "      <td>NaN</td>\n",
              "      <td>S</td>\n",
              "    </tr>\n",
              "  </tbody>\n",
              "</table>\n",
              "</div>"
            ],
            "text/plain": [
              "   PassengerId  Survived  Pclass  ...     Fare Cabin  Embarked\n",
              "0            1         0       3  ...   7.2500   NaN         S\n",
              "1            2         1       1  ...  71.2833   C85         C\n",
              "2            3         1       3  ...   7.9250   NaN         S\n",
              "3            4         1       1  ...  53.1000  C123         S\n",
              "4            5         0       3  ...   8.0500   NaN         S\n",
              "\n",
              "[5 rows x 12 columns]"
            ]
          },
          "metadata": {
            "tags": []
          },
          "execution_count": 2
        }
      ]
    },
    {
      "cell_type": "code",
      "metadata": {
        "id": "Cask5-MbCn4X",
        "colab_type": "code",
        "colab": {
          "base_uri": "https://localhost:8080/",
          "height": 194
        },
        "outputId": "42574c38-b110-4d9e-c061-014b459bbecf"
      },
      "source": [
        "# Load in the test dataset \n",
        "# ------\n",
        "\n",
        "t1df = pd.read_csv('/content/test (1).csv')\n",
        "t1df.head()"
      ],
      "execution_count": 3,
      "outputs": [
        {
          "output_type": "execute_result",
          "data": {
            "text/html": [
              "<div>\n",
              "<style scoped>\n",
              "    .dataframe tbody tr th:only-of-type {\n",
              "        vertical-align: middle;\n",
              "    }\n",
              "\n",
              "    .dataframe tbody tr th {\n",
              "        vertical-align: top;\n",
              "    }\n",
              "\n",
              "    .dataframe thead th {\n",
              "        text-align: right;\n",
              "    }\n",
              "</style>\n",
              "<table border=\"1\" class=\"dataframe\">\n",
              "  <thead>\n",
              "    <tr style=\"text-align: right;\">\n",
              "      <th></th>\n",
              "      <th>PassengerId</th>\n",
              "      <th>Pclass</th>\n",
              "      <th>Name</th>\n",
              "      <th>Sex</th>\n",
              "      <th>Age</th>\n",
              "      <th>SibSp</th>\n",
              "      <th>Parch</th>\n",
              "      <th>Ticket</th>\n",
              "      <th>Fare</th>\n",
              "      <th>Cabin</th>\n",
              "      <th>Embarked</th>\n",
              "    </tr>\n",
              "  </thead>\n",
              "  <tbody>\n",
              "    <tr>\n",
              "      <th>0</th>\n",
              "      <td>892</td>\n",
              "      <td>3</td>\n",
              "      <td>Kelly, Mr. James</td>\n",
              "      <td>male</td>\n",
              "      <td>34.5</td>\n",
              "      <td>0</td>\n",
              "      <td>0</td>\n",
              "      <td>330911</td>\n",
              "      <td>7.8292</td>\n",
              "      <td>NaN</td>\n",
              "      <td>Q</td>\n",
              "    </tr>\n",
              "    <tr>\n",
              "      <th>1</th>\n",
              "      <td>893</td>\n",
              "      <td>3</td>\n",
              "      <td>Wilkes, Mrs. James (Ellen Needs)</td>\n",
              "      <td>female</td>\n",
              "      <td>47.0</td>\n",
              "      <td>1</td>\n",
              "      <td>0</td>\n",
              "      <td>363272</td>\n",
              "      <td>7.0000</td>\n",
              "      <td>NaN</td>\n",
              "      <td>S</td>\n",
              "    </tr>\n",
              "    <tr>\n",
              "      <th>2</th>\n",
              "      <td>894</td>\n",
              "      <td>2</td>\n",
              "      <td>Myles, Mr. Thomas Francis</td>\n",
              "      <td>male</td>\n",
              "      <td>62.0</td>\n",
              "      <td>0</td>\n",
              "      <td>0</td>\n",
              "      <td>240276</td>\n",
              "      <td>9.6875</td>\n",
              "      <td>NaN</td>\n",
              "      <td>Q</td>\n",
              "    </tr>\n",
              "    <tr>\n",
              "      <th>3</th>\n",
              "      <td>895</td>\n",
              "      <td>3</td>\n",
              "      <td>Wirz, Mr. Albert</td>\n",
              "      <td>male</td>\n",
              "      <td>27.0</td>\n",
              "      <td>0</td>\n",
              "      <td>0</td>\n",
              "      <td>315154</td>\n",
              "      <td>8.6625</td>\n",
              "      <td>NaN</td>\n",
              "      <td>S</td>\n",
              "    </tr>\n",
              "    <tr>\n",
              "      <th>4</th>\n",
              "      <td>896</td>\n",
              "      <td>3</td>\n",
              "      <td>Hirvonen, Mrs. Alexander (Helga E Lindqvist)</td>\n",
              "      <td>female</td>\n",
              "      <td>22.0</td>\n",
              "      <td>1</td>\n",
              "      <td>1</td>\n",
              "      <td>3101298</td>\n",
              "      <td>12.2875</td>\n",
              "      <td>NaN</td>\n",
              "      <td>S</td>\n",
              "    </tr>\n",
              "  </tbody>\n",
              "</table>\n",
              "</div>"
            ],
            "text/plain": [
              "   PassengerId  Pclass  ... Cabin Embarked\n",
              "0          892       3  ...   NaN        Q\n",
              "1          893       3  ...   NaN        S\n",
              "2          894       2  ...   NaN        Q\n",
              "3          895       3  ...   NaN        S\n",
              "4          896       3  ...   NaN        S\n",
              "\n",
              "[5 rows x 11 columns]"
            ]
          },
          "metadata": {
            "tags": []
          },
          "execution_count": 3
        }
      ]
    },
    {
      "cell_type": "markdown",
      "metadata": {
        "id": "yNROkTXwMAzy",
        "colab_type": "text"
      },
      "source": [
        "# Checking our dataset"
      ]
    },
    {
      "cell_type": "code",
      "metadata": {
        "id": "FHcVbnpaLtMN",
        "colab_type": "code",
        "colab": {
          "base_uri": "https://localhost:8080/",
          "height": 228
        },
        "outputId": "b6f8c797-55c1-45bf-e7ad-d7cfc6febab7"
      },
      "source": [
        "# Preview of head of train dataset\n",
        "# -----\n",
        "tdf.head()"
      ],
      "execution_count": 4,
      "outputs": [
        {
          "output_type": "execute_result",
          "data": {
            "text/html": [
              "<div>\n",
              "<style scoped>\n",
              "    .dataframe tbody tr th:only-of-type {\n",
              "        vertical-align: middle;\n",
              "    }\n",
              "\n",
              "    .dataframe tbody tr th {\n",
              "        vertical-align: top;\n",
              "    }\n",
              "\n",
              "    .dataframe thead th {\n",
              "        text-align: right;\n",
              "    }\n",
              "</style>\n",
              "<table border=\"1\" class=\"dataframe\">\n",
              "  <thead>\n",
              "    <tr style=\"text-align: right;\">\n",
              "      <th></th>\n",
              "      <th>PassengerId</th>\n",
              "      <th>Survived</th>\n",
              "      <th>Pclass</th>\n",
              "      <th>Name</th>\n",
              "      <th>Sex</th>\n",
              "      <th>Age</th>\n",
              "      <th>SibSp</th>\n",
              "      <th>Parch</th>\n",
              "      <th>Ticket</th>\n",
              "      <th>Fare</th>\n",
              "      <th>Cabin</th>\n",
              "      <th>Embarked</th>\n",
              "    </tr>\n",
              "  </thead>\n",
              "  <tbody>\n",
              "    <tr>\n",
              "      <th>0</th>\n",
              "      <td>1</td>\n",
              "      <td>0</td>\n",
              "      <td>3</td>\n",
              "      <td>Braund, Mr. Owen Harris</td>\n",
              "      <td>male</td>\n",
              "      <td>22.0</td>\n",
              "      <td>1</td>\n",
              "      <td>0</td>\n",
              "      <td>A/5 21171</td>\n",
              "      <td>7.2500</td>\n",
              "      <td>NaN</td>\n",
              "      <td>S</td>\n",
              "    </tr>\n",
              "    <tr>\n",
              "      <th>1</th>\n",
              "      <td>2</td>\n",
              "      <td>1</td>\n",
              "      <td>1</td>\n",
              "      <td>Cumings, Mrs. John Bradley (Florence Briggs Th...</td>\n",
              "      <td>female</td>\n",
              "      <td>38.0</td>\n",
              "      <td>1</td>\n",
              "      <td>0</td>\n",
              "      <td>PC 17599</td>\n",
              "      <td>71.2833</td>\n",
              "      <td>C85</td>\n",
              "      <td>C</td>\n",
              "    </tr>\n",
              "    <tr>\n",
              "      <th>2</th>\n",
              "      <td>3</td>\n",
              "      <td>1</td>\n",
              "      <td>3</td>\n",
              "      <td>Heikkinen, Miss. Laina</td>\n",
              "      <td>female</td>\n",
              "      <td>26.0</td>\n",
              "      <td>0</td>\n",
              "      <td>0</td>\n",
              "      <td>STON/O2. 3101282</td>\n",
              "      <td>7.9250</td>\n",
              "      <td>NaN</td>\n",
              "      <td>S</td>\n",
              "    </tr>\n",
              "    <tr>\n",
              "      <th>3</th>\n",
              "      <td>4</td>\n",
              "      <td>1</td>\n",
              "      <td>1</td>\n",
              "      <td>Futrelle, Mrs. Jacques Heath (Lily May Peel)</td>\n",
              "      <td>female</td>\n",
              "      <td>35.0</td>\n",
              "      <td>1</td>\n",
              "      <td>0</td>\n",
              "      <td>113803</td>\n",
              "      <td>53.1000</td>\n",
              "      <td>C123</td>\n",
              "      <td>S</td>\n",
              "    </tr>\n",
              "    <tr>\n",
              "      <th>4</th>\n",
              "      <td>5</td>\n",
              "      <td>0</td>\n",
              "      <td>3</td>\n",
              "      <td>Allen, Mr. William Henry</td>\n",
              "      <td>male</td>\n",
              "      <td>35.0</td>\n",
              "      <td>0</td>\n",
              "      <td>0</td>\n",
              "      <td>373450</td>\n",
              "      <td>8.0500</td>\n",
              "      <td>NaN</td>\n",
              "      <td>S</td>\n",
              "    </tr>\n",
              "  </tbody>\n",
              "</table>\n",
              "</div>"
            ],
            "text/plain": [
              "   PassengerId  Survived  Pclass  ...     Fare Cabin  Embarked\n",
              "0            1         0       3  ...   7.2500   NaN         S\n",
              "1            2         1       1  ...  71.2833   C85         C\n",
              "2            3         1       3  ...   7.9250   NaN         S\n",
              "3            4         1       1  ...  53.1000  C123         S\n",
              "4            5         0       3  ...   8.0500   NaN         S\n",
              "\n",
              "[5 rows x 12 columns]"
            ]
          },
          "metadata": {
            "tags": []
          },
          "execution_count": 4
        }
      ]
    },
    {
      "cell_type": "code",
      "metadata": {
        "id": "JdNDv-FnMUM6",
        "colab_type": "code",
        "colab": {
          "base_uri": "https://localhost:8080/",
          "height": 194
        },
        "outputId": "eaa5110b-e24c-40be-9b43-6c79d43b625c"
      },
      "source": [
        "# Preview of head of test dataset\n",
        "# -----\n",
        "t1df.head()"
      ],
      "execution_count": 5,
      "outputs": [
        {
          "output_type": "execute_result",
          "data": {
            "text/html": [
              "<div>\n",
              "<style scoped>\n",
              "    .dataframe tbody tr th:only-of-type {\n",
              "        vertical-align: middle;\n",
              "    }\n",
              "\n",
              "    .dataframe tbody tr th {\n",
              "        vertical-align: top;\n",
              "    }\n",
              "\n",
              "    .dataframe thead th {\n",
              "        text-align: right;\n",
              "    }\n",
              "</style>\n",
              "<table border=\"1\" class=\"dataframe\">\n",
              "  <thead>\n",
              "    <tr style=\"text-align: right;\">\n",
              "      <th></th>\n",
              "      <th>PassengerId</th>\n",
              "      <th>Pclass</th>\n",
              "      <th>Name</th>\n",
              "      <th>Sex</th>\n",
              "      <th>Age</th>\n",
              "      <th>SibSp</th>\n",
              "      <th>Parch</th>\n",
              "      <th>Ticket</th>\n",
              "      <th>Fare</th>\n",
              "      <th>Cabin</th>\n",
              "      <th>Embarked</th>\n",
              "    </tr>\n",
              "  </thead>\n",
              "  <tbody>\n",
              "    <tr>\n",
              "      <th>0</th>\n",
              "      <td>892</td>\n",
              "      <td>3</td>\n",
              "      <td>Kelly, Mr. James</td>\n",
              "      <td>male</td>\n",
              "      <td>34.5</td>\n",
              "      <td>0</td>\n",
              "      <td>0</td>\n",
              "      <td>330911</td>\n",
              "      <td>7.8292</td>\n",
              "      <td>NaN</td>\n",
              "      <td>Q</td>\n",
              "    </tr>\n",
              "    <tr>\n",
              "      <th>1</th>\n",
              "      <td>893</td>\n",
              "      <td>3</td>\n",
              "      <td>Wilkes, Mrs. James (Ellen Needs)</td>\n",
              "      <td>female</td>\n",
              "      <td>47.0</td>\n",
              "      <td>1</td>\n",
              "      <td>0</td>\n",
              "      <td>363272</td>\n",
              "      <td>7.0000</td>\n",
              "      <td>NaN</td>\n",
              "      <td>S</td>\n",
              "    </tr>\n",
              "    <tr>\n",
              "      <th>2</th>\n",
              "      <td>894</td>\n",
              "      <td>2</td>\n",
              "      <td>Myles, Mr. Thomas Francis</td>\n",
              "      <td>male</td>\n",
              "      <td>62.0</td>\n",
              "      <td>0</td>\n",
              "      <td>0</td>\n",
              "      <td>240276</td>\n",
              "      <td>9.6875</td>\n",
              "      <td>NaN</td>\n",
              "      <td>Q</td>\n",
              "    </tr>\n",
              "    <tr>\n",
              "      <th>3</th>\n",
              "      <td>895</td>\n",
              "      <td>3</td>\n",
              "      <td>Wirz, Mr. Albert</td>\n",
              "      <td>male</td>\n",
              "      <td>27.0</td>\n",
              "      <td>0</td>\n",
              "      <td>0</td>\n",
              "      <td>315154</td>\n",
              "      <td>8.6625</td>\n",
              "      <td>NaN</td>\n",
              "      <td>S</td>\n",
              "    </tr>\n",
              "    <tr>\n",
              "      <th>4</th>\n",
              "      <td>896</td>\n",
              "      <td>3</td>\n",
              "      <td>Hirvonen, Mrs. Alexander (Helga E Lindqvist)</td>\n",
              "      <td>female</td>\n",
              "      <td>22.0</td>\n",
              "      <td>1</td>\n",
              "      <td>1</td>\n",
              "      <td>3101298</td>\n",
              "      <td>12.2875</td>\n",
              "      <td>NaN</td>\n",
              "      <td>S</td>\n",
              "    </tr>\n",
              "  </tbody>\n",
              "</table>\n",
              "</div>"
            ],
            "text/plain": [
              "   PassengerId  Pclass  ... Cabin Embarked\n",
              "0          892       3  ...   NaN        Q\n",
              "1          893       3  ...   NaN        S\n",
              "2          894       2  ...   NaN        Q\n",
              "3          895       3  ...   NaN        S\n",
              "4          896       3  ...   NaN        S\n",
              "\n",
              "[5 rows x 11 columns]"
            ]
          },
          "metadata": {
            "tags": []
          },
          "execution_count": 5
        }
      ]
    },
    {
      "cell_type": "code",
      "metadata": {
        "id": "khDhVBcfMguk",
        "colab_type": "code",
        "colab": {
          "base_uri": "https://localhost:8080/",
          "height": 194
        },
        "outputId": "22ea58f7-7c1b-4026-e256-a5f24f8173bf"
      },
      "source": [
        "# Preview of tail of train dataset\n",
        "# -----\n",
        "tdf.tail()"
      ],
      "execution_count": 5,
      "outputs": [
        {
          "output_type": "execute_result",
          "data": {
            "text/html": [
              "<div>\n",
              "<style scoped>\n",
              "    .dataframe tbody tr th:only-of-type {\n",
              "        vertical-align: middle;\n",
              "    }\n",
              "\n",
              "    .dataframe tbody tr th {\n",
              "        vertical-align: top;\n",
              "    }\n",
              "\n",
              "    .dataframe thead th {\n",
              "        text-align: right;\n",
              "    }\n",
              "</style>\n",
              "<table border=\"1\" class=\"dataframe\">\n",
              "  <thead>\n",
              "    <tr style=\"text-align: right;\">\n",
              "      <th></th>\n",
              "      <th>PassengerId</th>\n",
              "      <th>Survived</th>\n",
              "      <th>Pclass</th>\n",
              "      <th>Name</th>\n",
              "      <th>Sex</th>\n",
              "      <th>Age</th>\n",
              "      <th>SibSp</th>\n",
              "      <th>Parch</th>\n",
              "      <th>Ticket</th>\n",
              "      <th>Fare</th>\n",
              "      <th>Cabin</th>\n",
              "      <th>Embarked</th>\n",
              "    </tr>\n",
              "  </thead>\n",
              "  <tbody>\n",
              "    <tr>\n",
              "      <th>886</th>\n",
              "      <td>887</td>\n",
              "      <td>0</td>\n",
              "      <td>2</td>\n",
              "      <td>Montvila, Rev. Juozas</td>\n",
              "      <td>male</td>\n",
              "      <td>27.0</td>\n",
              "      <td>0</td>\n",
              "      <td>0</td>\n",
              "      <td>211536</td>\n",
              "      <td>13.00</td>\n",
              "      <td>NaN</td>\n",
              "      <td>S</td>\n",
              "    </tr>\n",
              "    <tr>\n",
              "      <th>887</th>\n",
              "      <td>888</td>\n",
              "      <td>1</td>\n",
              "      <td>1</td>\n",
              "      <td>Graham, Miss. Margaret Edith</td>\n",
              "      <td>female</td>\n",
              "      <td>19.0</td>\n",
              "      <td>0</td>\n",
              "      <td>0</td>\n",
              "      <td>112053</td>\n",
              "      <td>30.00</td>\n",
              "      <td>B42</td>\n",
              "      <td>S</td>\n",
              "    </tr>\n",
              "    <tr>\n",
              "      <th>888</th>\n",
              "      <td>889</td>\n",
              "      <td>0</td>\n",
              "      <td>3</td>\n",
              "      <td>Johnston, Miss. Catherine Helen \"Carrie\"</td>\n",
              "      <td>female</td>\n",
              "      <td>NaN</td>\n",
              "      <td>1</td>\n",
              "      <td>2</td>\n",
              "      <td>W./C. 6607</td>\n",
              "      <td>23.45</td>\n",
              "      <td>NaN</td>\n",
              "      <td>S</td>\n",
              "    </tr>\n",
              "    <tr>\n",
              "      <th>889</th>\n",
              "      <td>890</td>\n",
              "      <td>1</td>\n",
              "      <td>1</td>\n",
              "      <td>Behr, Mr. Karl Howell</td>\n",
              "      <td>male</td>\n",
              "      <td>26.0</td>\n",
              "      <td>0</td>\n",
              "      <td>0</td>\n",
              "      <td>111369</td>\n",
              "      <td>30.00</td>\n",
              "      <td>C148</td>\n",
              "      <td>C</td>\n",
              "    </tr>\n",
              "    <tr>\n",
              "      <th>890</th>\n",
              "      <td>891</td>\n",
              "      <td>0</td>\n",
              "      <td>3</td>\n",
              "      <td>Dooley, Mr. Patrick</td>\n",
              "      <td>male</td>\n",
              "      <td>32.0</td>\n",
              "      <td>0</td>\n",
              "      <td>0</td>\n",
              "      <td>370376</td>\n",
              "      <td>7.75</td>\n",
              "      <td>NaN</td>\n",
              "      <td>Q</td>\n",
              "    </tr>\n",
              "  </tbody>\n",
              "</table>\n",
              "</div>"
            ],
            "text/plain": [
              "     PassengerId  Survived  Pclass  ...   Fare Cabin  Embarked\n",
              "886          887         0       2  ...  13.00   NaN         S\n",
              "887          888         1       1  ...  30.00   B42         S\n",
              "888          889         0       3  ...  23.45   NaN         S\n",
              "889          890         1       1  ...  30.00  C148         C\n",
              "890          891         0       3  ...   7.75   NaN         Q\n",
              "\n",
              "[5 rows x 12 columns]"
            ]
          },
          "metadata": {
            "tags": []
          },
          "execution_count": 5
        }
      ]
    },
    {
      "cell_type": "code",
      "metadata": {
        "id": "qqvcJmXmMnJ5",
        "colab_type": "code",
        "colab": {
          "base_uri": "https://localhost:8080/",
          "height": 194
        },
        "outputId": "453e132e-5696-4caf-e372-9af8ed45f089"
      },
      "source": [
        "# Preview of tail of train dataset\n",
        "# -----\n",
        "t1df.tail()"
      ],
      "execution_count": 6,
      "outputs": [
        {
          "output_type": "execute_result",
          "data": {
            "text/html": [
              "<div>\n",
              "<style scoped>\n",
              "    .dataframe tbody tr th:only-of-type {\n",
              "        vertical-align: middle;\n",
              "    }\n",
              "\n",
              "    .dataframe tbody tr th {\n",
              "        vertical-align: top;\n",
              "    }\n",
              "\n",
              "    .dataframe thead th {\n",
              "        text-align: right;\n",
              "    }\n",
              "</style>\n",
              "<table border=\"1\" class=\"dataframe\">\n",
              "  <thead>\n",
              "    <tr style=\"text-align: right;\">\n",
              "      <th></th>\n",
              "      <th>PassengerId</th>\n",
              "      <th>Pclass</th>\n",
              "      <th>Name</th>\n",
              "      <th>Sex</th>\n",
              "      <th>Age</th>\n",
              "      <th>SibSp</th>\n",
              "      <th>Parch</th>\n",
              "      <th>Ticket</th>\n",
              "      <th>Fare</th>\n",
              "      <th>Cabin</th>\n",
              "      <th>Embarked</th>\n",
              "    </tr>\n",
              "  </thead>\n",
              "  <tbody>\n",
              "    <tr>\n",
              "      <th>413</th>\n",
              "      <td>1305</td>\n",
              "      <td>3</td>\n",
              "      <td>Spector, Mr. Woolf</td>\n",
              "      <td>male</td>\n",
              "      <td>NaN</td>\n",
              "      <td>0</td>\n",
              "      <td>0</td>\n",
              "      <td>A.5. 3236</td>\n",
              "      <td>8.0500</td>\n",
              "      <td>NaN</td>\n",
              "      <td>S</td>\n",
              "    </tr>\n",
              "    <tr>\n",
              "      <th>414</th>\n",
              "      <td>1306</td>\n",
              "      <td>1</td>\n",
              "      <td>Oliva y Ocana, Dona. Fermina</td>\n",
              "      <td>female</td>\n",
              "      <td>39.0</td>\n",
              "      <td>0</td>\n",
              "      <td>0</td>\n",
              "      <td>PC 17758</td>\n",
              "      <td>108.9000</td>\n",
              "      <td>C105</td>\n",
              "      <td>C</td>\n",
              "    </tr>\n",
              "    <tr>\n",
              "      <th>415</th>\n",
              "      <td>1307</td>\n",
              "      <td>3</td>\n",
              "      <td>Saether, Mr. Simon Sivertsen</td>\n",
              "      <td>male</td>\n",
              "      <td>38.5</td>\n",
              "      <td>0</td>\n",
              "      <td>0</td>\n",
              "      <td>SOTON/O.Q. 3101262</td>\n",
              "      <td>7.2500</td>\n",
              "      <td>NaN</td>\n",
              "      <td>S</td>\n",
              "    </tr>\n",
              "    <tr>\n",
              "      <th>416</th>\n",
              "      <td>1308</td>\n",
              "      <td>3</td>\n",
              "      <td>Ware, Mr. Frederick</td>\n",
              "      <td>male</td>\n",
              "      <td>NaN</td>\n",
              "      <td>0</td>\n",
              "      <td>0</td>\n",
              "      <td>359309</td>\n",
              "      <td>8.0500</td>\n",
              "      <td>NaN</td>\n",
              "      <td>S</td>\n",
              "    </tr>\n",
              "    <tr>\n",
              "      <th>417</th>\n",
              "      <td>1309</td>\n",
              "      <td>3</td>\n",
              "      <td>Peter, Master. Michael J</td>\n",
              "      <td>male</td>\n",
              "      <td>NaN</td>\n",
              "      <td>1</td>\n",
              "      <td>1</td>\n",
              "      <td>2668</td>\n",
              "      <td>22.3583</td>\n",
              "      <td>NaN</td>\n",
              "      <td>C</td>\n",
              "    </tr>\n",
              "  </tbody>\n",
              "</table>\n",
              "</div>"
            ],
            "text/plain": [
              "     PassengerId  Pclass                          Name  ...      Fare  Cabin  Embarked\n",
              "413         1305       3            Spector, Mr. Woolf  ...    8.0500    NaN         S\n",
              "414         1306       1  Oliva y Ocana, Dona. Fermina  ...  108.9000   C105         C\n",
              "415         1307       3  Saether, Mr. Simon Sivertsen  ...    7.2500    NaN         S\n",
              "416         1308       3           Ware, Mr. Frederick  ...    8.0500    NaN         S\n",
              "417         1309       3      Peter, Master. Michael J  ...   22.3583    NaN         C\n",
              "\n",
              "[5 rows x 11 columns]"
            ]
          },
          "metadata": {
            "tags": []
          },
          "execution_count": 6
        }
      ]
    },
    {
      "cell_type": "markdown",
      "metadata": {
        "id": "K3qfeGENMthn",
        "colab_type": "text"
      },
      "source": [
        "# Tidying our datasets"
      ]
    },
    {
      "cell_type": "code",
      "metadata": {
        "id": "tdq1ngsDMsLF",
        "colab_type": "code",
        "colab": {
          "base_uri": "https://localhost:8080/",
          "height": 675
        },
        "outputId": "aefb05de-de56-438c-a42e-4bd4bbbf32d8"
      },
      "source": [
        "# Summary of the information of our datasets\n",
        "# -----\n",
        "tdf.info()\n",
        "t1df.info()"
      ],
      "execution_count": 7,
      "outputs": [
        {
          "output_type": "stream",
          "text": [
            "<class 'pandas.core.frame.DataFrame'>\n",
            "RangeIndex: 891 entries, 0 to 890\n",
            "Data columns (total 12 columns):\n",
            " #   Column       Non-Null Count  Dtype  \n",
            "---  ------       --------------  -----  \n",
            " 0   PassengerId  891 non-null    int64  \n",
            " 1   Survived     891 non-null    int64  \n",
            " 2   Pclass       891 non-null    int64  \n",
            " 3   Name         891 non-null    object \n",
            " 4   Sex          891 non-null    object \n",
            " 5   Age          714 non-null    float64\n",
            " 6   SibSp        891 non-null    int64  \n",
            " 7   Parch        891 non-null    int64  \n",
            " 8   Ticket       891 non-null    object \n",
            " 9   Fare         891 non-null    float64\n",
            " 10  Cabin        204 non-null    object \n",
            " 11  Embarked     889 non-null    object \n",
            "dtypes: float64(2), int64(5), object(5)\n",
            "memory usage: 83.7+ KB\n",
            "<class 'pandas.core.frame.DataFrame'>\n",
            "RangeIndex: 418 entries, 0 to 417\n",
            "Data columns (total 11 columns):\n",
            " #   Column       Non-Null Count  Dtype  \n",
            "---  ------       --------------  -----  \n",
            " 0   PassengerId  418 non-null    int64  \n",
            " 1   Pclass       418 non-null    int64  \n",
            " 2   Name         418 non-null    object \n",
            " 3   Sex          418 non-null    object \n",
            " 4   Age          332 non-null    float64\n",
            " 5   SibSp        418 non-null    int64  \n",
            " 6   Parch        418 non-null    int64  \n",
            " 7   Ticket       418 non-null    object \n",
            " 8   Fare         417 non-null    float64\n",
            " 9   Cabin        91 non-null     object \n",
            " 10  Embarked     418 non-null    object \n",
            "dtypes: float64(2), int64(4), object(5)\n",
            "memory usage: 36.0+ KB\n"
          ],
          "name": "stdout"
        }
      ]
    },
    {
      "cell_type": "code",
      "metadata": {
        "id": "XrygpDdgNEJP",
        "colab_type": "code",
        "colab": {
          "base_uri": "https://localhost:8080/",
          "height": 52
        },
        "outputId": "09e56295-97d2-4592-9173-3abadfe34ec4"
      },
      "source": [
        "print(tdf.shape)\n",
        "print(t1df.shape)"
      ],
      "execution_count": 8,
      "outputs": [
        {
          "output_type": "stream",
          "text": [
            "(891, 12)\n",
            "(418, 11)\n"
          ],
          "name": "stdout"
        }
      ]
    },
    {
      "cell_type": "code",
      "metadata": {
        "id": "CVU4JOWJNZeP",
        "colab_type": "code",
        "colab": {
          "base_uri": "https://localhost:8080/",
          "height": 282
        },
        "outputId": "0c77ee09-2231-4cfa-bb71-f2571ab67bf4"
      },
      "source": [
        "# Summary of our datasets\n",
        "# -------\n",
        "tdf.describe()"
      ],
      "execution_count": 9,
      "outputs": [
        {
          "output_type": "execute_result",
          "data": {
            "text/html": [
              "<div>\n",
              "<style scoped>\n",
              "    .dataframe tbody tr th:only-of-type {\n",
              "        vertical-align: middle;\n",
              "    }\n",
              "\n",
              "    .dataframe tbody tr th {\n",
              "        vertical-align: top;\n",
              "    }\n",
              "\n",
              "    .dataframe thead th {\n",
              "        text-align: right;\n",
              "    }\n",
              "</style>\n",
              "<table border=\"1\" class=\"dataframe\">\n",
              "  <thead>\n",
              "    <tr style=\"text-align: right;\">\n",
              "      <th></th>\n",
              "      <th>PassengerId</th>\n",
              "      <th>Survived</th>\n",
              "      <th>Pclass</th>\n",
              "      <th>Age</th>\n",
              "      <th>SibSp</th>\n",
              "      <th>Parch</th>\n",
              "      <th>Fare</th>\n",
              "    </tr>\n",
              "  </thead>\n",
              "  <tbody>\n",
              "    <tr>\n",
              "      <th>count</th>\n",
              "      <td>891.000000</td>\n",
              "      <td>891.000000</td>\n",
              "      <td>891.000000</td>\n",
              "      <td>714.000000</td>\n",
              "      <td>891.000000</td>\n",
              "      <td>891.000000</td>\n",
              "      <td>891.000000</td>\n",
              "    </tr>\n",
              "    <tr>\n",
              "      <th>mean</th>\n",
              "      <td>446.000000</td>\n",
              "      <td>0.383838</td>\n",
              "      <td>2.308642</td>\n",
              "      <td>29.699118</td>\n",
              "      <td>0.523008</td>\n",
              "      <td>0.381594</td>\n",
              "      <td>32.204208</td>\n",
              "    </tr>\n",
              "    <tr>\n",
              "      <th>std</th>\n",
              "      <td>257.353842</td>\n",
              "      <td>0.486592</td>\n",
              "      <td>0.836071</td>\n",
              "      <td>14.526497</td>\n",
              "      <td>1.102743</td>\n",
              "      <td>0.806057</td>\n",
              "      <td>49.693429</td>\n",
              "    </tr>\n",
              "    <tr>\n",
              "      <th>min</th>\n",
              "      <td>1.000000</td>\n",
              "      <td>0.000000</td>\n",
              "      <td>1.000000</td>\n",
              "      <td>0.420000</td>\n",
              "      <td>0.000000</td>\n",
              "      <td>0.000000</td>\n",
              "      <td>0.000000</td>\n",
              "    </tr>\n",
              "    <tr>\n",
              "      <th>25%</th>\n",
              "      <td>223.500000</td>\n",
              "      <td>0.000000</td>\n",
              "      <td>2.000000</td>\n",
              "      <td>20.125000</td>\n",
              "      <td>0.000000</td>\n",
              "      <td>0.000000</td>\n",
              "      <td>7.910400</td>\n",
              "    </tr>\n",
              "    <tr>\n",
              "      <th>50%</th>\n",
              "      <td>446.000000</td>\n",
              "      <td>0.000000</td>\n",
              "      <td>3.000000</td>\n",
              "      <td>28.000000</td>\n",
              "      <td>0.000000</td>\n",
              "      <td>0.000000</td>\n",
              "      <td>14.454200</td>\n",
              "    </tr>\n",
              "    <tr>\n",
              "      <th>75%</th>\n",
              "      <td>668.500000</td>\n",
              "      <td>1.000000</td>\n",
              "      <td>3.000000</td>\n",
              "      <td>38.000000</td>\n",
              "      <td>1.000000</td>\n",
              "      <td>0.000000</td>\n",
              "      <td>31.000000</td>\n",
              "    </tr>\n",
              "    <tr>\n",
              "      <th>max</th>\n",
              "      <td>891.000000</td>\n",
              "      <td>1.000000</td>\n",
              "      <td>3.000000</td>\n",
              "      <td>80.000000</td>\n",
              "      <td>8.000000</td>\n",
              "      <td>6.000000</td>\n",
              "      <td>512.329200</td>\n",
              "    </tr>\n",
              "  </tbody>\n",
              "</table>\n",
              "</div>"
            ],
            "text/plain": [
              "       PassengerId    Survived      Pclass  ...       SibSp       Parch        Fare\n",
              "count   891.000000  891.000000  891.000000  ...  891.000000  891.000000  891.000000\n",
              "mean    446.000000    0.383838    2.308642  ...    0.523008    0.381594   32.204208\n",
              "std     257.353842    0.486592    0.836071  ...    1.102743    0.806057   49.693429\n",
              "min       1.000000    0.000000    1.000000  ...    0.000000    0.000000    0.000000\n",
              "25%     223.500000    0.000000    2.000000  ...    0.000000    0.000000    7.910400\n",
              "50%     446.000000    0.000000    3.000000  ...    0.000000    0.000000   14.454200\n",
              "75%     668.500000    1.000000    3.000000  ...    1.000000    0.000000   31.000000\n",
              "max     891.000000    1.000000    3.000000  ...    8.000000    6.000000  512.329200\n",
              "\n",
              "[8 rows x 7 columns]"
            ]
          },
          "metadata": {
            "tags": []
          },
          "execution_count": 9
        }
      ]
    },
    {
      "cell_type": "code",
      "metadata": {
        "id": "MOmBKkLtOaOh",
        "colab_type": "code",
        "colab": {
          "base_uri": "https://localhost:8080/",
          "height": 282
        },
        "outputId": "0eefefac-2690-49bf-85ac-eed2d7ff218e"
      },
      "source": [
        "t1df.describe()"
      ],
      "execution_count": 10,
      "outputs": [
        {
          "output_type": "execute_result",
          "data": {
            "text/html": [
              "<div>\n",
              "<style scoped>\n",
              "    .dataframe tbody tr th:only-of-type {\n",
              "        vertical-align: middle;\n",
              "    }\n",
              "\n",
              "    .dataframe tbody tr th {\n",
              "        vertical-align: top;\n",
              "    }\n",
              "\n",
              "    .dataframe thead th {\n",
              "        text-align: right;\n",
              "    }\n",
              "</style>\n",
              "<table border=\"1\" class=\"dataframe\">\n",
              "  <thead>\n",
              "    <tr style=\"text-align: right;\">\n",
              "      <th></th>\n",
              "      <th>PassengerId</th>\n",
              "      <th>Pclass</th>\n",
              "      <th>Age</th>\n",
              "      <th>SibSp</th>\n",
              "      <th>Parch</th>\n",
              "      <th>Fare</th>\n",
              "    </tr>\n",
              "  </thead>\n",
              "  <tbody>\n",
              "    <tr>\n",
              "      <th>count</th>\n",
              "      <td>418.000000</td>\n",
              "      <td>418.000000</td>\n",
              "      <td>332.000000</td>\n",
              "      <td>418.000000</td>\n",
              "      <td>418.000000</td>\n",
              "      <td>417.000000</td>\n",
              "    </tr>\n",
              "    <tr>\n",
              "      <th>mean</th>\n",
              "      <td>1100.500000</td>\n",
              "      <td>2.265550</td>\n",
              "      <td>30.272590</td>\n",
              "      <td>0.447368</td>\n",
              "      <td>0.392344</td>\n",
              "      <td>35.627188</td>\n",
              "    </tr>\n",
              "    <tr>\n",
              "      <th>std</th>\n",
              "      <td>120.810458</td>\n",
              "      <td>0.841838</td>\n",
              "      <td>14.181209</td>\n",
              "      <td>0.896760</td>\n",
              "      <td>0.981429</td>\n",
              "      <td>55.907576</td>\n",
              "    </tr>\n",
              "    <tr>\n",
              "      <th>min</th>\n",
              "      <td>892.000000</td>\n",
              "      <td>1.000000</td>\n",
              "      <td>0.170000</td>\n",
              "      <td>0.000000</td>\n",
              "      <td>0.000000</td>\n",
              "      <td>0.000000</td>\n",
              "    </tr>\n",
              "    <tr>\n",
              "      <th>25%</th>\n",
              "      <td>996.250000</td>\n",
              "      <td>1.000000</td>\n",
              "      <td>21.000000</td>\n",
              "      <td>0.000000</td>\n",
              "      <td>0.000000</td>\n",
              "      <td>7.895800</td>\n",
              "    </tr>\n",
              "    <tr>\n",
              "      <th>50%</th>\n",
              "      <td>1100.500000</td>\n",
              "      <td>3.000000</td>\n",
              "      <td>27.000000</td>\n",
              "      <td>0.000000</td>\n",
              "      <td>0.000000</td>\n",
              "      <td>14.454200</td>\n",
              "    </tr>\n",
              "    <tr>\n",
              "      <th>75%</th>\n",
              "      <td>1204.750000</td>\n",
              "      <td>3.000000</td>\n",
              "      <td>39.000000</td>\n",
              "      <td>1.000000</td>\n",
              "      <td>0.000000</td>\n",
              "      <td>31.500000</td>\n",
              "    </tr>\n",
              "    <tr>\n",
              "      <th>max</th>\n",
              "      <td>1309.000000</td>\n",
              "      <td>3.000000</td>\n",
              "      <td>76.000000</td>\n",
              "      <td>8.000000</td>\n",
              "      <td>9.000000</td>\n",
              "      <td>512.329200</td>\n",
              "    </tr>\n",
              "  </tbody>\n",
              "</table>\n",
              "</div>"
            ],
            "text/plain": [
              "       PassengerId      Pclass         Age       SibSp       Parch        Fare\n",
              "count   418.000000  418.000000  332.000000  418.000000  418.000000  417.000000\n",
              "mean   1100.500000    2.265550   30.272590    0.447368    0.392344   35.627188\n",
              "std     120.810458    0.841838   14.181209    0.896760    0.981429   55.907576\n",
              "min     892.000000    1.000000    0.170000    0.000000    0.000000    0.000000\n",
              "25%     996.250000    1.000000   21.000000    0.000000    0.000000    7.895800\n",
              "50%    1100.500000    3.000000   27.000000    0.000000    0.000000   14.454200\n",
              "75%    1204.750000    3.000000   39.000000    1.000000    0.000000   31.500000\n",
              "max    1309.000000    3.000000   76.000000    8.000000    9.000000  512.329200"
            ]
          },
          "metadata": {
            "tags": []
          },
          "execution_count": 10
        }
      ]
    },
    {
      "cell_type": "code",
      "metadata": {
        "id": "ndq0MasBWXtx",
        "colab_type": "code",
        "colab": {
          "base_uri": "https://localhost:8080/",
          "height": 194
        },
        "outputId": "e35ff5dd-6924-453c-d81b-dc24fcffee61"
      },
      "source": [
        "t1df.head()"
      ],
      "execution_count": 11,
      "outputs": [
        {
          "output_type": "execute_result",
          "data": {
            "text/html": [
              "<div>\n",
              "<style scoped>\n",
              "    .dataframe tbody tr th:only-of-type {\n",
              "        vertical-align: middle;\n",
              "    }\n",
              "\n",
              "    .dataframe tbody tr th {\n",
              "        vertical-align: top;\n",
              "    }\n",
              "\n",
              "    .dataframe thead th {\n",
              "        text-align: right;\n",
              "    }\n",
              "</style>\n",
              "<table border=\"1\" class=\"dataframe\">\n",
              "  <thead>\n",
              "    <tr style=\"text-align: right;\">\n",
              "      <th></th>\n",
              "      <th>PassengerId</th>\n",
              "      <th>Pclass</th>\n",
              "      <th>Name</th>\n",
              "      <th>Sex</th>\n",
              "      <th>Age</th>\n",
              "      <th>SibSp</th>\n",
              "      <th>Parch</th>\n",
              "      <th>Ticket</th>\n",
              "      <th>Fare</th>\n",
              "      <th>Cabin</th>\n",
              "      <th>Embarked</th>\n",
              "    </tr>\n",
              "  </thead>\n",
              "  <tbody>\n",
              "    <tr>\n",
              "      <th>0</th>\n",
              "      <td>892</td>\n",
              "      <td>3</td>\n",
              "      <td>Kelly, Mr. James</td>\n",
              "      <td>male</td>\n",
              "      <td>34.5</td>\n",
              "      <td>0</td>\n",
              "      <td>0</td>\n",
              "      <td>330911</td>\n",
              "      <td>7.8292</td>\n",
              "      <td>NaN</td>\n",
              "      <td>Q</td>\n",
              "    </tr>\n",
              "    <tr>\n",
              "      <th>1</th>\n",
              "      <td>893</td>\n",
              "      <td>3</td>\n",
              "      <td>Wilkes, Mrs. James (Ellen Needs)</td>\n",
              "      <td>female</td>\n",
              "      <td>47.0</td>\n",
              "      <td>1</td>\n",
              "      <td>0</td>\n",
              "      <td>363272</td>\n",
              "      <td>7.0000</td>\n",
              "      <td>NaN</td>\n",
              "      <td>S</td>\n",
              "    </tr>\n",
              "    <tr>\n",
              "      <th>2</th>\n",
              "      <td>894</td>\n",
              "      <td>2</td>\n",
              "      <td>Myles, Mr. Thomas Francis</td>\n",
              "      <td>male</td>\n",
              "      <td>62.0</td>\n",
              "      <td>0</td>\n",
              "      <td>0</td>\n",
              "      <td>240276</td>\n",
              "      <td>9.6875</td>\n",
              "      <td>NaN</td>\n",
              "      <td>Q</td>\n",
              "    </tr>\n",
              "    <tr>\n",
              "      <th>3</th>\n",
              "      <td>895</td>\n",
              "      <td>3</td>\n",
              "      <td>Wirz, Mr. Albert</td>\n",
              "      <td>male</td>\n",
              "      <td>27.0</td>\n",
              "      <td>0</td>\n",
              "      <td>0</td>\n",
              "      <td>315154</td>\n",
              "      <td>8.6625</td>\n",
              "      <td>NaN</td>\n",
              "      <td>S</td>\n",
              "    </tr>\n",
              "    <tr>\n",
              "      <th>4</th>\n",
              "      <td>896</td>\n",
              "      <td>3</td>\n",
              "      <td>Hirvonen, Mrs. Alexander (Helga E Lindqvist)</td>\n",
              "      <td>female</td>\n",
              "      <td>22.0</td>\n",
              "      <td>1</td>\n",
              "      <td>1</td>\n",
              "      <td>3101298</td>\n",
              "      <td>12.2875</td>\n",
              "      <td>NaN</td>\n",
              "      <td>S</td>\n",
              "    </tr>\n",
              "  </tbody>\n",
              "</table>\n",
              "</div>"
            ],
            "text/plain": [
              "   PassengerId  Pclass  ... Cabin Embarked\n",
              "0          892       3  ...   NaN        Q\n",
              "1          893       3  ...   NaN        S\n",
              "2          894       2  ...   NaN        Q\n",
              "3          895       3  ...   NaN        S\n",
              "4          896       3  ...   NaN        S\n",
              "\n",
              "[5 rows x 11 columns]"
            ]
          },
          "metadata": {
            "tags": []
          },
          "execution_count": 11
        }
      ]
    },
    {
      "cell_type": "code",
      "metadata": {
        "id": "89NsQL5XPHDe",
        "colab_type": "code",
        "colab": {
          "base_uri": "https://localhost:8080/",
          "height": 461
        },
        "outputId": "ddacb392-2d0b-4f2e-ca2d-c8a222f6bd0e"
      },
      "source": [
        "# Check for null values\n",
        "# ------\n",
        "print(tdf.isnull().any())\n",
        "print(t1df.isnull().any())"
      ],
      "execution_count": 12,
      "outputs": [
        {
          "output_type": "stream",
          "text": [
            "PassengerId    False\n",
            "Survived       False\n",
            "Pclass         False\n",
            "Name           False\n",
            "Sex            False\n",
            "Age             True\n",
            "SibSp          False\n",
            "Parch          False\n",
            "Ticket         False\n",
            "Fare           False\n",
            "Cabin           True\n",
            "Embarked        True\n",
            "dtype: bool\n",
            "PassengerId    False\n",
            "Pclass         False\n",
            "Name           False\n",
            "Sex            False\n",
            "Age             True\n",
            "SibSp          False\n",
            "Parch          False\n",
            "Ticket         False\n",
            "Fare            True\n",
            "Cabin           True\n",
            "Embarked       False\n",
            "dtype: bool\n"
          ],
          "name": "stdout"
        }
      ]
    },
    {
      "cell_type": "code",
      "metadata": {
        "id": "nfG06HEFOeK5",
        "colab_type": "code",
        "colab": {
          "base_uri": "https://localhost:8080/",
          "height": 461
        },
        "outputId": "1976c48d-a6f7-4dd9-ff54-e1f8b34deacd"
      },
      "source": [
        "# Sum of null values \n",
        "# ------\n",
        "print(tdf.isnull().sum())\n",
        "print(t1df.isnull().sum())"
      ],
      "execution_count": 13,
      "outputs": [
        {
          "output_type": "stream",
          "text": [
            "PassengerId      0\n",
            "Survived         0\n",
            "Pclass           0\n",
            "Name             0\n",
            "Sex              0\n",
            "Age            177\n",
            "SibSp            0\n",
            "Parch            0\n",
            "Ticket           0\n",
            "Fare             0\n",
            "Cabin          687\n",
            "Embarked         2\n",
            "dtype: int64\n",
            "PassengerId      0\n",
            "Pclass           0\n",
            "Name             0\n",
            "Sex              0\n",
            "Age             86\n",
            "SibSp            0\n",
            "Parch            0\n",
            "Ticket           0\n",
            "Fare             1\n",
            "Cabin          327\n",
            "Embarked         0\n",
            "dtype: int64\n"
          ],
          "name": "stdout"
        }
      ]
    },
    {
      "cell_type": "code",
      "metadata": {
        "id": "BiNPVO_0VrGV",
        "colab_type": "code",
        "colab": {}
      },
      "source": [
        "#we will the replace with the mode of each and every column\n",
        "for column in tdf.columns:\n",
        "    tdf[column].fillna(tdf[column].mode()[0])"
      ],
      "execution_count": 14,
      "outputs": []
    },
    {
      "cell_type": "code",
      "metadata": {
        "id": "mjJF7vfxXJxn",
        "colab_type": "code",
        "colab": {}
      },
      "source": [
        "#we will the replace with the mode of each and every column\n",
        "for column in tdf.columns:\n",
        "    tdf[column].fillna(tdf[column].mode()[0])"
      ],
      "execution_count": 15,
      "outputs": []
    },
    {
      "cell_type": "code",
      "metadata": {
        "id": "U0avbU-nXPbu",
        "colab_type": "code",
        "colab": {}
      },
      "source": [
        "# Drop the cabin column\n",
        "# -------\n",
        "tdf =tdf.drop('Cabin', inplace=False,axis=1)\n",
        "t1df = t1df.drop('Cabin', inplace=False,axis=1)"
      ],
      "execution_count": 16,
      "outputs": []
    },
    {
      "cell_type": "code",
      "metadata": {
        "id": "6lxoNaUGXjoQ",
        "colab_type": "code",
        "colab": {}
      },
      "source": [
        "# Drop all null values \n",
        "\n",
        "tdf = tdf.dropna(inplace=False)\n",
        "t1df = t1df.dropna(inplace=False)"
      ],
      "execution_count": 17,
      "outputs": []
    },
    {
      "cell_type": "code",
      "metadata": {
        "id": "DpwdfPP1TMBI",
        "colab_type": "code",
        "colab": {
          "base_uri": "https://localhost:8080/",
          "height": 426
        },
        "outputId": "3f08e0c7-9c72-494c-f5f1-06b3276c9f34"
      },
      "source": [
        "# Sum of null values \n",
        "# ------\n",
        "print(tdf.isnull().sum())\n",
        "print(t1df.isnull().sum())"
      ],
      "execution_count": 18,
      "outputs": [
        {
          "output_type": "stream",
          "text": [
            "PassengerId    0\n",
            "Survived       0\n",
            "Pclass         0\n",
            "Name           0\n",
            "Sex            0\n",
            "Age            0\n",
            "SibSp          0\n",
            "Parch          0\n",
            "Ticket         0\n",
            "Fare           0\n",
            "Embarked       0\n",
            "dtype: int64\n",
            "PassengerId    0\n",
            "Pclass         0\n",
            "Name           0\n",
            "Sex            0\n",
            "Age            0\n",
            "SibSp          0\n",
            "Parch          0\n",
            "Ticket         0\n",
            "Fare           0\n",
            "Embarked       0\n",
            "dtype: int64\n"
          ],
          "name": "stdout"
        }
      ]
    },
    {
      "cell_type": "code",
      "metadata": {
        "id": "0-YjP_AkZ6uD",
        "colab_type": "code",
        "colab": {
          "base_uri": "https://localhost:8080/",
          "height": 1000
        },
        "outputId": "eb794672-55fe-4ad6-bfb6-214887b6a7b6"
      },
      "source": [
        "# Check for unique values in our dataset\n",
        "# -----\n",
        "for columns in tdf.columns:\n",
        "  print('/n')\n",
        "  print(tdf[columns].unique())"
      ],
      "execution_count": 21,
      "outputs": [
        {
          "output_type": "stream",
          "text": [
            "/n\n",
            "[  1   2   3   4   5   7   8   9  10  11  12  13  14  15  16  17  19  21\n",
            "  22  23  24  25  26  28  31  34  35  36  38  39  40  41  42  44  45  50\n",
            "  51  52  53  54  55  57  58  59  60  61  63  64  67  68  69  70  71  72\n",
            "  73  74  75  76  79  80  81  82  84  85  86  87  89  90  91  92  93  94\n",
            "  95  97  98  99 100 101 103 104 105 106 107 109 111 112 113 114 115 116\n",
            " 117 118 119 120 121 123 124 125 126 128 130 131 132 133 134 135 136 137\n",
            " 138 139 140 142 143 144 145 146 147 148 149 150 151 152 153 154 156 157\n",
            " 158 161 162 163 164 165 166 168 170 171 172 173 174 175 176 178 179 180\n",
            " 183 184 185 188 189 190 191 192 193 194 195 196 198 200 201 203 204 205\n",
            " 206 207 208 209 210 211 212 213 214 216 217 218 219 220 221 222 223 225\n",
            " 226 227 228 229 231 232 233 234 235 237 238 239 240 243 244 245 246 247\n",
            " 248 249 250 252 253 254 255 256 258 259 260 262 263 264 266 267 268 269\n",
            " 270 272 273 274 276 277 279 280 281 282 283 284 286 287 288 289 290 291\n",
            " 292 293 294 295 297 298 300 303 306 308 309 310 311 312 313 314 315 316\n",
            " 317 318 319 320 321 322 323 324 326 327 328 329 330 332 333 334 337 338\n",
            " 339 340 341 342 343 344 345 346 347 349 350 351 353 354 356 357 358 361\n",
            " 362 363 364 366 367 370 371 372 373 374 375 377 378 379 380 381 382 383\n",
            " 384 386 387 388 390 391 392 393 394 395 396 397 398 399 400 401 402 403\n",
            " 404 405 406 407 408 409 413 415 417 418 419 420 422 423 424 425 427 428\n",
            " 430 431 433 434 435 436 437 438 439 440 441 442 443 444 446 447 448 449\n",
            " 450 451 453 454 456 457 459 461 462 463 464 466 468 470 472 473 474 475\n",
            " 477 478 479 480 481 483 484 485 487 488 489 490 492 493 494 495 497 499\n",
            " 500 501 502 504 505 506 507 509 510 511 513 514 515 516 517 519 520 521\n",
            " 522 524 526 527 529 530 531 533 535 536 537 538 540 541 542 543 544 545\n",
            " 546 547 549 550 551 552 554 555 556 557 559 560 562 563 566 567 568 570\n",
            " 571 572 573 575 576 577 578 580 581 582 583 584 586 587 588 589 591 592\n",
            " 593 595 596 598 600 601 604 605 606 607 608 609 610 611 615 616 617 618\n",
            " 619 620 621 622 623 624 625 626 627 628 629 631 632 633 635 636 637 638\n",
            " 639 641 642 643 645 646 647 648 650 652 653 655 656 658 659 660 661 662\n",
            " 663 664 665 666 667 669 671 672 673 674 676 677 678 679 680 682 683 684\n",
            " 685 686 687 688 689 690 691 692 694 695 696 697 699 700 701 702 703 704\n",
            " 705 706 707 708 709 711 713 714 715 716 717 718 720 721 722 723 724 725\n",
            " 726 727 729 730 731 732 734 735 736 737 738 742 743 744 745 746 747 748\n",
            " 749 750 751 752 753 754 755 756 757 758 759 760 762 763 764 765 766 768\n",
            " 770 771 772 773 775 776 778 780 781 782 783 785 786 787 788 789 790 792\n",
            " 795 796 797 798 799 800 801 802 803 804 805 806 807 808 809 810 811 812\n",
            " 813 814 815 817 818 819 820 821 822 823 824 825 828 831 832 834 835 836\n",
            " 837 839 841 842 843 844 845 846 848 849 851 852 853 854 855 856 857 858\n",
            " 859 861 862 863 865 866 867 868 870 871 872 873 874 875 876 877 878 880\n",
            " 881 882 883 884 885 886 887 888 890 891]\n",
            "/n\n",
            "[0 1]\n",
            "/n\n",
            "[3 1 2]\n",
            "/n\n",
            "['Braund, Mr. Owen Harris'\n",
            " 'Cumings, Mrs. John Bradley (Florence Briggs Thayer)'\n",
            " 'Heikkinen, Miss. Laina' 'Futrelle, Mrs. Jacques Heath (Lily May Peel)'\n",
            " 'Allen, Mr. William Henry' 'McCarthy, Mr. Timothy J'\n",
            " 'Palsson, Master. Gosta Leonard'\n",
            " 'Johnson, Mrs. Oscar W (Elisabeth Vilhelmina Berg)'\n",
            " 'Nasser, Mrs. Nicholas (Adele Achem)' 'Sandstrom, Miss. Marguerite Rut'\n",
            " 'Bonnell, Miss. Elizabeth' 'Saundercock, Mr. William Henry'\n",
            " 'Andersson, Mr. Anders Johan' 'Vestrom, Miss. Hulda Amanda Adolfina'\n",
            " 'Hewlett, Mrs. (Mary D Kingcome) ' 'Rice, Master. Eugene'\n",
            " 'Vander Planke, Mrs. Julius (Emelia Maria Vandemoortele)'\n",
            " 'Fynney, Mr. Joseph J' 'Beesley, Mr. Lawrence'\n",
            " 'McGowan, Miss. Anna \"Annie\"' 'Sloper, Mr. William Thompson'\n",
            " 'Palsson, Miss. Torborg Danira'\n",
            " 'Asplund, Mrs. Carl Oscar (Selma Augusta Emilia Johansson)'\n",
            " 'Fortune, Mr. Charles Alexander' 'Uruchurtu, Don. Manuel E'\n",
            " 'Wheadon, Mr. Edward H' 'Meyer, Mr. Edgar Joseph'\n",
            " 'Holverson, Mr. Alexander Oskar' 'Cann, Mr. Ernest Charles'\n",
            " 'Vander Planke, Miss. Augusta Maria' 'Nicola-Yarred, Miss. Jamila'\n",
            " 'Ahlin, Mrs. Johan (Johanna Persdotter Larsson)'\n",
            " 'Turpin, Mrs. William John Robert (Dorothy Ann Wonnacott)'\n",
            " 'Laroche, Miss. Simonne Marie Anne Andree'\n",
            " 'Devaney, Miss. Margaret Delia'\n",
            " 'Arnold-Franchi, Mrs. Josef (Josefine Franchi)'\n",
            " 'Panula, Master. Juha Niilo' 'Nosworthy, Mr. Richard Cater'\n",
            " 'Harper, Mrs. Henry Sleeper (Myna Haxtun)'\n",
            " 'Faunthorpe, Mrs. Lizzie (Elizabeth Anne Wilkinson)'\n",
            " 'Ostby, Mr. Engelhart Cornelius' 'Rugg, Miss. Emily'\n",
            " 'Novel, Mr. Mansouer' 'West, Miss. Constance Mirium'\n",
            " 'Goodwin, Master. William Frederick' 'Sirayanian, Mr. Orsen'\n",
            " 'Harris, Mr. Henry Birkhardt' 'Skoog, Master. Harald'\n",
            " 'Nye, Mrs. (Elizabeth Ramell)' 'Crease, Mr. Ernest James'\n",
            " 'Andersson, Miss. Erna Alexandra' 'Kink, Mr. Vincenz'\n",
            " 'Jenkin, Mr. Stephen Curnow' 'Goodwin, Miss. Lillian Amy'\n",
            " 'Hood, Mr. Ambrose Jr' 'Chronopoulos, Mr. Apostolos' 'Bing, Mr. Lee'\n",
            " 'Moen, Mr. Sigurd Hansen' 'Caldwell, Master. Alden Gates'\n",
            " 'Dowdell, Miss. Elizabeth' 'Waelens, Mr. Achille'\n",
            " 'Sheerlinck, Mr. Jan Baptist' 'Carrau, Mr. Francisco M'\n",
            " 'Ilett, Miss. Bertha'\n",
            " 'Backstrom, Mrs. Karl Alfred (Maria Mathilda Gustafsson)'\n",
            " 'Ford, Mr. William Neal' 'Fortune, Miss. Mabel Helen'\n",
            " 'Celotti, Mr. Francesco' 'Christmann, Mr. Emil'\n",
            " 'Andreasson, Mr. Paul Edvin' 'Chaffee, Mr. Herbert Fuller'\n",
            " 'Dean, Mr. Bertram Frank' 'Coxon, Mr. Daniel' 'Goldschmidt, Mr. George B'\n",
            " 'Greenfield, Mr. William Bertram' 'Doling, Mrs. John T (Ada Julia Bone)'\n",
            " 'Kantor, Mr. Sinai' 'Petranec, Miss. Matilda' 'White, Mr. Richard Frasar'\n",
            " 'Johansson, Mr. Gustaf Joel' 'Gustafsson, Mr. Anders Vilhelm'\n",
            " 'Mionoff, Mr. Stoytcho' 'Salkjelsvik, Miss. Anna Kristine'\n",
            " 'Rekic, Mr. Tido' 'Porter, Mr. Walter Chamberlain' 'Zabour, Miss. Hileni'\n",
            " 'Barton, Mr. David John' 'Jussila, Miss. Katriina'\n",
            " 'Attalah, Miss. Malake' 'Pekoniemi, Mr. Edvard' 'Connors, Mr. Patrick'\n",
            " 'Turpin, Mr. William John Robert' 'Baxter, Mr. Quigg Edmond'\n",
            " 'Andersson, Miss. Ellis Anna Maria' 'Hickman, Mr. Stanley George'\n",
            " 'Nasser, Mr. Nicholas' 'Webber, Miss. Susan'\n",
            " 'White, Mr. Percival Wayland' 'Nicola-Yarred, Master. Elias'\n",
            " 'Madsen, Mr. Fridtjof Arne' 'Ekstrom, Mr. Johan' 'Drazenoic, Mr. Jozef'\n",
            " 'Coelho, Mr. Domingos Fernandeo'\n",
            " 'Robins, Mrs. Alexander A (Grace Charity Laury)'\n",
            " 'Weisz, Mrs. Leopold (Mathilde Francoise Pede)'\n",
            " 'Sobey, Mr. Samuel James Hayden' 'Richard, Mr. Emile'\n",
            " 'Newsom, Miss. Helen Monypeny' 'Futrelle, Mr. Jacques Heath'\n",
            " 'Osen, Mr. Olaf Elon' 'Giglio, Mr. Victor' 'Nysten, Miss. Anna Sofia'\n",
            " 'Hakkarainen, Mrs. Pekka Pietari (Elin Matilda Dolck)'\n",
            " 'Burke, Mr. Jeremiah' 'Andrew, Mr. Edgardo Samuel'\n",
            " 'Nicholls, Mr. Joseph Charles'\n",
            " 'Andersson, Mr. August Edvard (\"Wennerstrom\")'\n",
            " 'Ford, Miss. Robina Maggie \"Ruby\"'\n",
            " 'Navratil, Mr. Michel (\"Louis M Hoffman\")'\n",
            " 'Byles, Rev. Thomas Roussel Davids' 'Bateman, Rev. Robert James'\n",
            " 'Pears, Mrs. Thomas (Edith Wearne)' 'Meo, Mr. Alfonzo'\n",
            " 'van Billiard, Mr. Austin Blyler' 'Williams, Mr. Charles Duane'\n",
            " 'Gilnagh, Miss. Katherine \"Katie\"' 'Corn, Mr. Harry'\n",
            " 'Cribb, Mr. John Hatfield'\n",
            " 'Watt, Mrs. James (Elizabeth \"Bessie\" Inglis Milne)'\n",
            " 'Bengtsson, Mr. John Viktor' 'Calic, Mr. Jovo'\n",
            " 'Panula, Master. Eino Viljami'\n",
            " 'Goldsmith, Master. Frank John William \"Frankie\"'\n",
            " 'Skoog, Mrs. William (Anna Bernhardina Karlsson)' 'Ling, Mr. Lee'\n",
            " 'Van der hoef, Mr. Wyckoff' 'Rice, Master. Arthur'\n",
            " 'Johnson, Miss. Eleanor Ileen' 'Sivola, Mr. Antti Wilhelm'\n",
            " 'Smith, Mr. James Clinch' 'Klasen, Mr. Klas Albin'\n",
            " 'Isham, Miss. Ann Elizabeth' 'Hale, Mr. Reginald' 'Leonard, Mr. Lionel'\n",
            " 'Asplund, Master. Clarence Gustaf Hugo' 'Becker, Master. Richard F'\n",
            " 'Kink-Heilmann, Miss. Luise Gretchen'\n",
            " 'Romaine, Mr. Charles Hallace (\"Mr C Rolmane\")' 'Bourke, Mr. John'\n",
            " 'Turcin, Mr. Stjepan' 'Pinsky, Mrs. (Rosa)' 'Carbines, Mr. William'\n",
            " 'Andersen-Jensen, Miss. Carla Christine Nielsine'\n",
            " 'Navratil, Master. Michel M' 'Brown, Mrs. James Joseph (Margaret Tobin)'\n",
            " 'Lurette, Miss. Elise' 'Olsen, Mr. Karl Siegwart Andreas'\n",
            " 'Yrois, Miss. Henriette (\"Mrs Harbeck\")' 'Vande Walle, Mr. Nestor Cyriel'\n",
            " 'Johanson, Mr. Jakob Alfred' 'Youseff, Mr. Gerious'\n",
            " 'Cohen, Mr. Gurshon \"Gus\"' 'Strom, Miss. Telma Matilda'\n",
            " 'Backstrom, Mr. Karl Alfred' 'Albimona, Mr. Nassef Cassem'\n",
            " 'Carr, Miss. Helen \"Ellen\"' 'Blank, Mr. Henry' 'Ali, Mr. Ahmed'\n",
            " 'Cameron, Miss. Clear Annie' 'Perkin, Mr. John Henry'\n",
            " 'Givard, Mr. Hans Kristensen' 'Newell, Miss. Madeleine'\n",
            " 'Honkanen, Miss. Eliina' 'Jacobsohn, Mr. Sidney Samuel'\n",
            " 'Bazzani, Miss. Albina' 'Harris, Mr. Walter'\n",
            " 'Sunderland, Mr. Victor Francis' 'Bracken, Mr. James H'\n",
            " 'Green, Mr. George Henry' 'Hoyt, Mr. Frederick Maxfield'\n",
            " 'Berglund, Mr. Karl Ivar Sven' 'Mellors, Mr. William John'\n",
            " 'Lovell, Mr. John Hall (\"Henry\")' 'Fahlstrom, Mr. Arne Jonas'\n",
            " 'Harris, Mrs. Henry Birkhardt (Irene Wallach)' 'Larsson, Mr. Bengt Edvin'\n",
            " 'Sjostedt, Mr. Ernst Adolf' 'Asplund, Miss. Lillian Gertrud'\n",
            " 'Leyson, Mr. Robert William Norman' 'Hold, Mr. Stephen'\n",
            " 'Collyer, Miss. Marjorie \"Lottie\"' 'Pengelly, Mr. Frederick William'\n",
            " 'Hunt, Mr. George Henry' 'Coleridge, Mr. Reginald Charles'\n",
            " 'Maenpaa, Mr. Matti Alexanteri' 'Attalah, Mr. Sleiman'\n",
            " 'Minahan, Dr. William Edward' 'Lindahl, Miss. Agda Thorilda Viktoria'\n",
            " 'Hamalainen, Mrs. William (Anna)' 'Beckwith, Mr. Richard Leonard'\n",
            " 'Carter, Rev. Ernest Courtenay'\n",
            " 'Strom, Mrs. Wilhelm (Elna Matilda Persson)' 'Stead, Mr. William Thomas'\n",
            " 'Lobb, Mr. William Arthur' 'Rosblom, Mrs. Viktor (Helena Wilhelmina)'\n",
            " 'Touma, Mrs. Darwis (Hanne Youssef Razi)' 'Cherry, Miss. Gladys'\n",
            " 'Ward, Miss. Anna' 'Parrish, Mrs. (Lutie Davis)'\n",
            " 'Asplund, Master. Edvin Rojj Felix' 'Taussig, Mr. Emil'\n",
            " 'Harrison, Mr. William' 'Reeves, Mr. David' 'Panula, Mr. Ernesti Arvid'\n",
            " 'Persson, Mr. Ernst Ulrik'\n",
            " 'Graham, Mrs. William Thompson (Edith Junkins)' 'Bissette, Miss. Amelia'\n",
            " 'Tornquist, Mr. William Henry'\n",
            " 'Mellinger, Mrs. (Elizabeth Anne Maidment)' 'Natsch, Mr. Charles H'\n",
            " 'Andrews, Miss. Kornelia Theodosia' 'Lindblom, Miss. Augusta Charlotta'\n",
            " 'Rice, Master. Eric' 'Abbott, Mrs. Stanton (Rosa Hunt)'\n",
            " 'Duane, Mr. Frank' 'Olsson, Mr. Nils Johan Goransson'\n",
            " 'de Pelsmaeker, Mr. Alfons' 'Dorking, Mr. Edward Arthur'\n",
            " 'Stankovic, Mr. Ivan' 'de Mulder, Mr. Theodore' 'Naidenoff, Mr. Penko'\n",
            " 'Hosono, Mr. Masabumi' 'Connolly, Miss. Kate'\n",
            " 'Barber, Miss. Ellen \"Nellie\"' 'Bishop, Mrs. Dickinson H (Helen Walton)'\n",
            " 'Levy, Mr. Rene Jacques' 'Haas, Miss. Aloisia' 'Mineff, Mr. Ivan'\n",
            " 'Hanna, Mr. Mansour' 'Allison, Miss. Helen Loraine'\n",
            " 'Baxter, Mrs. James (Helene DeLaudeniere Chaput)'\n",
            " 'Johnson, Mr. William Cahoone Jr' 'Allison, Master. Hudson Trevor'\n",
            " 'Penasco y Castellana, Mrs. Victor de Satode (Maria Josefa Perez de Soto y Vallejo)'\n",
            " 'Abelson, Mr. Samuel' 'Francatelli, Miss. Laura Mabel'\n",
            " 'Hays, Miss. Margaret Bechstein' 'Ryerson, Miss. Emily Borie'\n",
            " 'Lahtinen, Mrs. William (Anna Sylfven)' 'Hendekovic, Mr. Ignjac'\n",
            " 'Hart, Mr. Benjamin' 'Nilsson, Miss. Helmina Josefina'\n",
            " 'Kantor, Mrs. Sinai (Miriam Sternin)' 'Moraweck, Dr. Ernest'\n",
            " 'Wick, Miss. Mary Natalie'\n",
            " 'Spedden, Mrs. Frederic Oakley (Margaretta Corning Stone)'\n",
            " 'Dennis, Mr. Samuel' 'Danoff, Mr. Yoto' 'Slayter, Miss. Hilda Mary'\n",
            " 'Caldwell, Mrs. Albert Francis (Sylvia Mae Harbaugh)'\n",
            " 'Young, Miss. Marie Grice' 'Nysveen, Mr. Johan Hansen'\n",
            " 'Ball, Mrs. (Ada E Hall)'\n",
            " 'Goldsmith, Mrs. Frank John (Emily Alice Brown)'\n",
            " 'Hippach, Miss. Jean Gertrude' 'Partner, Mr. Austen'\n",
            " 'Graham, Mr. George Edward' 'Vander Planke, Mr. Leo Edmondus'\n",
            " 'Pears, Mr. Thomas Clinton' 'Burns, Miss. Elizabeth Margaret'\n",
            " 'Dahl, Mr. Karl Edwart' 'Blackwell, Mr. Stephen Weart'\n",
            " 'Navratil, Master. Edmond Roger' 'Fortune, Miss. Alice Elizabeth'\n",
            " 'Collander, Mr. Erik Gustaf' 'Sedgwick, Mr. Charles Frederick Waddington'\n",
            " 'Fox, Mr. Stanley Hubert' 'Brown, Miss. Amelia \"Mildred\"'\n",
            " 'Smith, Miss. Marion Elsie' 'Coutts, Master. William Loch \"William\"'\n",
            " 'Dimic, Mr. Jovan' 'Odahl, Mr. Nils Martin' 'Elias, Mr. Tannous'\n",
            " 'Arnold-Franchi, Mr. Josef' 'Vanden Steen, Mr. Leo Peter'\n",
            " 'Bowerman, Miss. Elsie Edith' 'Funk, Miss. Annie Clemmer'\n",
            " 'Skoog, Mr. Wilhelm' 'del Carlo, Mr. Sebastiano'\n",
            " 'Barbara, Mrs. (Catherine David)' 'Asim, Mr. Adola'\n",
            " 'Adahl, Mr. Mauritz Nils Martin'\n",
            " 'Warren, Mrs. Frank Manley (Anna Sophia Atkinson)'\n",
            " 'Aubart, Mme. Leontine Pauline' 'Harder, Mr. George Achilles'\n",
            " 'Wiklund, Mr. Jakob Alfred' 'Beavan, Mr. William Thomas'\n",
            " 'Ringhini, Mr. Sante' 'Palsson, Miss. Stina Viola'\n",
            " 'Landergren, Miss. Aurora Adelia' 'Widener, Mr. Harry Elkins'\n",
            " 'Betros, Mr. Tannous' 'Gustafsson, Mr. Karl Gideon'\n",
            " 'Bidois, Miss. Rosalie' 'Nakid, Miss. Maria (\"Mary\")'\n",
            " 'Tikkanen, Mr. Juho'\n",
            " 'Holverson, Mrs. Alexander Oskar (Mary Aline Towner)'\n",
            " 'Davies, Mr. Charles Henry' 'Goodwin, Master. Sidney Leonard'\n",
            " 'Buss, Miss. Kate' 'Lehmann, Miss. Bertha' 'Carter, Mr. William Ernest'\n",
            " 'Jansson, Mr. Carl Olof' 'Gustafsson, Mr. Johan Birger'\n",
            " 'Newell, Miss. Marjorie'\n",
            " 'Sandstrom, Mrs. Hjalmar (Agnes Charlotta Bengtsson)'\n",
            " 'Johansson, Mr. Erik' 'Olsson, Miss. Elina' 'McKane, Mr. Peter David'\n",
            " 'Pain, Dr. Alfred' 'Trout, Mrs. William H (Jessie L)'\n",
            " 'Niskanen, Mr. Juha' 'Adams, Mr. John' 'Jussila, Miss. Mari Aina'\n",
            " 'Hakkarainen, Mr. Pekka Pietari' 'Oreskovic, Miss. Marija'\n",
            " 'Gale, Mr. Shadrach' 'Widegren, Mr. Carl/Charles Peter'\n",
            " 'Richards, Master. William Rowe' 'Birkeland, Mr. Hans Martin Monsen'\n",
            " 'Minahan, Miss. Daisy E' 'Sundman, Mr. Johan Julian'\n",
            " 'Drew, Mrs. James Vivian (Lulu Thorne Christian)'\n",
            " 'Silven, Miss. Lyyli Karoliina' 'Matthews, Mr. William John'\n",
            " 'Van Impe, Miss. Catharina' 'Charters, Mr. David' 'Zimmerman, Mr. Leo'\n",
            " 'Danbom, Mrs. Ernst Gilbert (Anna Sigrid Maria Brogren)'\n",
            " 'Rosblom, Mr. Viktor Richard'\n",
            " 'Clarke, Mrs. Charles V (Ada Maria Winfield)'\n",
            " 'Phillips, Miss. Kate Florence (\"Mrs Kate Louise Phillips Marshall\")'\n",
            " 'Pickard, Mr. Berk (Berk Trembisky)'\n",
            " 'Bjornstrom-Steffansson, Mr. Mauritz Hakan'\n",
            " 'Louch, Mrs. Charles Alexander (Alice Adelaide Slow)'\n",
            " 'Kallio, Mr. Nikolai Erland' 'Silvey, Mr. William Baird'\n",
            " 'Carter, Miss. Lucile Polk' 'Ford, Miss. Doolina Margaret \"Daisy\"'\n",
            " 'Richards, Mrs. Sidney (Emily Hocking)' 'Fortune, Mr. Mark'\n",
            " 'Kvillner, Mr. Johan Henrik Johannesson'\n",
            " 'Hart, Mrs. Benjamin (Esther Ada Bloomfield)' 'Hampe, Mr. Leon'\n",
            " 'Petterson, Mr. Johan Emil' 'Reynaldo, Ms. Encarnacion'\n",
            " 'Dodge, Master. Washington' 'Mellinger, Miss. Madeleine Violet'\n",
            " 'Seward, Mr. Frederic Kimber' 'Baclini, Miss. Marie Catherine'\n",
            " 'Peuchen, Major. Arthur Godfrey' 'West, Mr. Edwy Arthur'\n",
            " 'Foreman, Mr. Benjamin Laventall' 'Goldenberg, Mr. Samuel L'\n",
            " 'Jalsevac, Mr. Ivan' 'Millet, Mr. Francis Davis' 'Toomey, Miss. Ellen'\n",
            " 'Anderson, Mr. Harry' 'Morley, Mr. William' 'Gee, Mr. Arthur H'\n",
            " 'Milling, Mr. Jacob Christian' 'Goncalves, Mr. Manuel Estanslas'\n",
            " 'Smart, Mr. John Montgomery' 'Baclini, Miss. Helene Barbara'\n",
            " 'Cacic, Mr. Luka' 'West, Mrs. Edwy Arthur (Ada Mary Worth)'\n",
            " 'Jerwan, Mrs. Amin S (Marie Marthe Thuillard)'\n",
            " 'Strandberg, Miss. Ida Sofia' 'Renouf, Mr. Peter Henry'\n",
            " 'Braund, Mr. Lewis Richard' 'Karlsson, Mr. Nils August'\n",
            " 'Hirvonen, Miss. Hildur E' 'Goodwin, Master. Harold Victor'\n",
            " 'Rouse, Mr. Richard Henry' 'Turkula, Mrs. (Hedwig)'\n",
            " 'Bishop, Mr. Dickinson H'\n",
            " 'Hoyt, Mrs. Frederick Maxfield (Jane Anne Forby)'\n",
            " 'Kent, Mr. Edward Austin' 'Somerton, Mr. Francis William'\n",
            " 'Coutts, Master. Eden Leslie \"Neville\"' 'Windelov, Mr. Einar'\n",
            " 'Molson, Mr. Harry Markland' 'Artagaveytia, Mr. Ramon'\n",
            " 'Stanley, Mr. Edward Roland' 'Eustis, Miss. Elizabeth Mussey'\n",
            " 'Allison, Mrs. Hudson J C (Bessie Waldo Daniels)' 'Svensson, Mr. Olof'\n",
            " 'Calic, Mr. Petar' 'Canavan, Miss. Mary' 'Laitinen, Miss. Kristina Sofia'\n",
            " 'Maioni, Miss. Roberta' 'Penasco y Castellana, Mr. Victor de Satode'\n",
            " 'Quick, Mrs. Frederick Charles (Jane Richards)'\n",
            " 'Olsen, Mr. Henry Margido' 'Lang, Mr. Fang' 'Daly, Mr. Eugene Patrick'\n",
            " 'McGough, Mr. James Robert'\n",
            " 'Rothschild, Mrs. Martin (Elizabeth L. Barrett)' 'Coleff, Mr. Satio'\n",
            " 'Walker, Mr. William Anderson' 'Lemore, Mrs. (Amelia Milley)'\n",
            " 'Angle, Mrs. William A (Florence \"Mary\" Agnes Hughes)'\n",
            " 'Pavlovic, Mr. Stefo' 'Perreault, Miss. Anne' 'Vovk, Mr. Janko'\n",
            " 'Hippach, Mrs. Louis Albert (Ida Sophia Fischer)' 'Farrell, Mr. James'\n",
            " 'Ridsdale, Miss. Lucy' 'Salonen, Mr. Johan Werner'\n",
            " 'Hocking, Mr. Richard George' 'Quick, Miss. Phyllis May'\n",
            " 'Elias, Mr. Joseph Jr' 'Cacic, Miss. Marija' 'Hart, Miss. Eva Miriam'\n",
            " 'Butt, Major. Archibald Willingham' 'LeRoy, Miss. Bertha'\n",
            " 'Frolicher, Miss. Hedwig Margaritha' 'Crosby, Miss. Harriet R'\n",
            " 'Andersson, Miss. Ingeborg Constanzia'\n",
            " 'Andersson, Miss. Sigrid Elisabeth' 'Beane, Mr. Edward'\n",
            " 'Douglas, Mr. Walter Donald' 'Nicholson, Mr. Arthur Ernest'\n",
            " 'Beane, Mrs. Edward (Ethel Clarke)' 'Goldsmith, Mr. Frank John'\n",
            " 'Davies, Master. John Morgan Jr' 'Thayer, Mr. John Borland Jr'\n",
            " 'Sharp, Mr. Percival James R' 'Leeni, Mr. Fahim (\"Philip Zenni\")'\n",
            " 'Ohman, Miss. Velin' 'Wright, Mr. George'\n",
            " 'Duff Gordon, Lady. (Lucille Christiana Sutherland) (\"Mrs Morgan\")'\n",
            " 'Taussig, Mrs. Emil (Tillie Mandelbaum)'\n",
            " 'de Messemaeker, Mrs. Guillaume Joseph (Emma)' 'Sivic, Mr. Husein'\n",
            " 'Norman, Mr. Robert Douglas' 'Davies, Mr. Alfred J'\n",
            " 'Stoytcheff, Mr. Ilia' 'Palsson, Mrs. Nils (Alma Cornelia Berglund)'\n",
            " 'Jonsson, Mr. Carl' 'Harris, Mr. George'\n",
            " 'Appleton, Mrs. Edward Dale (Charlotte Lamson)'\n",
            " 'Flynn, Mr. John Irwin (\"Irving\")' 'Rush, Mr. Alfred George John'\n",
            " 'Patchett, Mr. George' 'Garside, Miss. Ethel'\n",
            " 'Silvey, Mrs. William Baird (Alice Munger)' 'Jussila, Mr. Eiriik'\n",
            " 'Christy, Miss. Julie Rachel'\n",
            " 'Thayer, Mrs. John Borland (Marian Longstreth Morris)'\n",
            " 'Downton, Mr. William James' 'Ross, Mr. John Hugo' 'Taussig, Miss. Ruth'\n",
            " 'Jarvis, Mr. John Denzil' 'Frolicher-Stehli, Mr. Maxmillian'\n",
            " 'Gilinski, Mr. Eliezer' 'Rintamaki, Mr. Matti'\n",
            " 'Stephenson, Mrs. Walter Bertram (Martha Eustis)'\n",
            " 'Elsbury, Mr. William James' 'Chapman, Mr. John Henry'\n",
            " 'Van Impe, Mr. Jean Baptiste' 'Johnson, Mr. Alfred'\n",
            " 'Duff Gordon, Sir. Cosmo Edmund (\"Mr Morgan\")'\n",
            " 'Jacobsohn, Mrs. Sidney Samuel (Amy Frances Christy)'\n",
            " 'Torber, Mr. Ernst William' 'Homer, Mr. Harry (\"Mr E Haven\")'\n",
            " 'Lindell, Mr. Edvard Bengtsson' 'Karaic, Mr. Milan'\n",
            " 'Daniel, Mr. Robert Williams'\n",
            " 'Laroche, Mrs. Joseph (Juliette Marie Louise Lafargue)'\n",
            " 'Shutes, Miss. Elizabeth W'\n",
            " 'Andersson, Mrs. Anders Johan (Alfrida Konstantia Brogren)'\n",
            " 'Brocklebank, Mr. William Alfred' 'Herman, Miss. Alice'\n",
            " 'Danbom, Mr. Ernst Gilbert'\n",
            " 'Lobb, Mrs. William Arthur (Cordelia K Stanlick)'\n",
            " 'Becker, Miss. Marion Louise' 'Gavey, Mr. Lawrence' 'Yasbeck, Mr. Antoni'\n",
            " 'Kimball, Mr. Edwin Nelson Jr' 'Nakid, Mr. Sahid'\n",
            " 'Hansen, Mr. Henry Damsgaard' 'Bowen, Mr. David John \"Dai\"'\n",
            " 'Sutton, Mr. Frederick' 'Kirkland, Rev. Charles Leonard'\n",
            " 'Longley, Miss. Gretchen Fiske' 'Bostandyeff, Mr. Guentcho'\n",
            " 'Barkworth, Mr. Algernon Henry Wilson' 'Lundahl, Mr. Johan Svensson'\n",
            " 'Stahelin-Maeglin, Dr. Max' 'Skoog, Miss. Mabel' 'Davis, Miss. Mary'\n",
            " 'Leinonen, Mr. Antti Gustaf' 'Collyer, Mr. Harvey'\n",
            " 'Panula, Mrs. Juha (Maria Emilia Ojala)' 'Jensen, Mr. Hans Peder'\n",
            " 'Sagesser, Mlle. Emma' 'Skoog, Miss. Margit Elizabeth'\n",
            " 'Baclini, Miss. Eugenie' 'Harper, Mr. Henry Sleeper' 'Cor, Mr. Liudevit'\n",
            " 'Simonius-Blumer, Col. Oberst Alfons' 'Stanley, Miss. Amy Zillah Elsie'\n",
            " 'Doling, Miss. Elsie' 'Kalvik, Mr. Johannes Halvorsen'\n",
            " 'Hegarty, Miss. Hanora \"Nora\"' 'Hickman, Mr. Leonard Mark'\n",
            " 'Bourke, Mrs. John (Catherine)' 'Eitemiller, Mr. George Floyd'\n",
            " 'Newell, Mr. Arthur Webster' 'Frauenthal, Dr. Henry William'\n",
            " 'Badt, Mr. Mohamed' 'Colley, Mr. Edward Pomeroy' 'Coleff, Mr. Peju'\n",
            " 'Lindqvist, Mr. Eino William' 'Hickman, Mr. Lewis'\n",
            " 'Butler, Mr. Reginald Fenton' 'Cook, Mr. Jacob'\n",
            " 'Brown, Mrs. Thomas William Solomon (Elizabeth Catherine Ford)'\n",
            " 'Davidson, Mr. Thornton' 'Mitchell, Mr. Henry Michael'\n",
            " 'Wilhelms, Mr. Charles' 'Edvardsson, Mr. Gustaf Hjalmar'\n",
            " 'Sawyer, Mr. Frederick Charles' 'Turja, Miss. Anna Sofia'\n",
            " 'Goodwin, Mrs. Frederick (Augusta Tyler)'\n",
            " 'Cardeza, Mr. Thomas Drake Martinez' 'Hassab, Mr. Hammad'\n",
            " 'Olsvigen, Mr. Thor Anderson' 'Goodwin, Mr. Charles Edward'\n",
            " 'Brown, Mr. Thomas William Solomon'\n",
            " 'Laroche, Mr. Joseph Philippe Lemercier' 'Panula, Mr. Jaako Arnold'\n",
            " 'Dakic, Mr. Branko' 'Fischer, Mr. Eberhard Thelander'\n",
            " 'Madill, Miss. Georgette Alexandra' 'Dick, Mr. Albert Adrian'\n",
            " 'Karun, Miss. Manca' 'Saad, Mr. Khalil' 'Weir, Col. John'\n",
            " 'Chapman, Mr. Charles Henry' 'Kelly, Mr. James'\n",
            " 'Thayer, Mr. John Borland' 'Humblen, Mr. Adolf Mathias Nicolai Olsen'\n",
            " 'Astor, Mrs. John Jacob (Madeleine Talmadge Force)'\n",
            " 'Silverthorne, Mr. Spencer Victor' 'Barbara, Miss. Saiide'\n",
            " 'Gallagher, Mr. Martin' 'Hansen, Mr. Henrik Juul'\n",
            " 'Morley, Mr. Henry Samuel (\"Mr Henry Marshall\")'\n",
            " 'Kelly, Mrs. Florence \"Fannie\"' 'Calderhead, Mr. Edward Pennington'\n",
            " 'Cleaver, Miss. Alice' 'Mayne, Mlle. Berthe Antonine (\"Mrs de Villiers\")'\n",
            " 'Taylor, Mr. Elmer Zebley' 'Larsson, Mr. August Viktor'\n",
            " 'Greenberg, Mr. Samuel' 'Soholt, Mr. Peter Andreas Lauritz Andersen'\n",
            " 'Endres, Miss. Caroline Louise' 'Troutt, Miss. Edwina Celia \"Winnie\"'\n",
            " 'Johnson, Mr. Malkolm Joackim' 'Harper, Miss. Annie Jessie \"Nina\"'\n",
            " 'Jensen, Mr. Svend Lauritz' 'Gillespie, Mr. William Henry'\n",
            " 'Hodges, Mr. Henry Price' 'Chambers, Mr. Norman Campbell'\n",
            " 'Oreskovic, Mr. Luka' 'Renouf, Mrs. Peter Henry (Lillian Jefferys)'\n",
            " 'Bryhl, Mr. Kurt Arnold Gottfrid' 'Ilmakangas, Miss. Pieta Sofia'\n",
            " 'Allen, Miss. Elisabeth Walton' 'Hassan, Mr. Houssein G N'\n",
            " 'Berriman, Mr. William John' 'Troupiansky, Mr. Moses Aaron'\n",
            " 'Williams, Mr. Leslie' 'Ford, Mrs. Edward (Margaret Ann Watson)'\n",
            " 'Lesurer, Mr. Gustave J' 'Cavendish, Mr. Tyrell William'\n",
            " 'Ryerson, Miss. Susan Parker \"Suzette\"' 'McNamee, Mr. Neal'\n",
            " 'Stranden, Mr. Juho' 'Crosby, Capt. Edward Gifford'\n",
            " 'Abbott, Mr. Rossmore Edward' 'Sinkkonen, Miss. Anna'\n",
            " 'Marvin, Mr. Daniel Warner' 'Connaghton, Mr. Michael' 'Wells, Miss. Joan'\n",
            " 'Moor, Master. Meier' 'Vande Velde, Mr. Johannes Joseph'\n",
            " 'Jonkoff, Mr. Lalio' 'Herman, Mrs. Samuel (Jane Laver)'\n",
            " 'Hamalainen, Master. Viljo' 'Carlsson, Mr. August Sigfrid'\n",
            " 'Bailey, Mr. Percy Andrew' 'Theobald, Mr. Thomas Leonard'\n",
            " 'Rothes, the Countess. of (Lucy Noel Martha Dyer-Edwards)'\n",
            " 'Nirva, Mr. Iisakki Antino Aijo' 'Barah, Mr. Hanna Assi'\n",
            " 'Carter, Mrs. William Ernest (Lucile Polk)' 'Eklund, Mr. Hans Linus'\n",
            " 'Hogeboom, Mrs. John C (Anna Andrews)' 'Mangan, Miss. Mary'\n",
            " 'Gronnestad, Mr. Daniel Danielsen' 'Lievens, Mr. Rene Aime'\n",
            " 'Jensen, Mr. Niels Peder' 'Mack, Mrs. (Mary)'\n",
            " 'Hocking, Mrs. Elizabeth (Eliza Needs)'\n",
            " 'Myhrman, Mr. Pehr Fabian Oliver Malkolm' 'Emanuel, Miss. Virginia Ethel'\n",
            " 'Robert, Mrs. Edward Scott (Elisabeth Walton McMillan)'\n",
            " 'Ayoub, Miss. Banoura' 'Dick, Mrs. Albert Adrian (Vera Gillespie)'\n",
            " 'Long, Mr. Milton Clyde' 'Ali, Mr. William'\n",
            " 'Harmer, Mr. Abraham (David Lishin)' 'Sjoblom, Miss. Anna Sofia'\n",
            " 'Rice, Master. George Hugh' 'Dean, Master. Bertram Vere'\n",
            " 'Guggenheim, Mr. Benjamin' 'Gaskell, Mr. Alfred' 'Dantcheff, Mr. Ristiu'\n",
            " 'Otter, Mr. Richard' 'Leader, Dr. Alice (Farnham)' 'Osman, Mrs. Mara'\n",
            " 'Ibrahim Shawah, Mr. Yousseff'\n",
            " 'Van Impe, Mrs. Jean Baptiste (Rosalie Paula Govaert)'\n",
            " 'Ponesell, Mr. Martin' 'Collyer, Mrs. Harvey (Charlotte Annie Tate)'\n",
            " 'Carter, Master. William Thornton II' 'Thomas, Master. Assad Alexander'\n",
            " 'Hedman, Mr. Oskar Arvid' 'Johansson, Mr. Karl Johan'\n",
            " 'Andrews, Mr. Thomas Jr' 'Pettersson, Miss. Ellen Natalia'\n",
            " 'Meyer, Mr. August' 'Chambers, Mrs. Norman Campbell (Bertha Griggs)'\n",
            " 'Alexander, Mr. William' 'Lester, Mr. James' 'Slemen, Mr. Richard James'\n",
            " 'Andersson, Miss. Ebba Iris Alfrida' 'Tomlin, Mr. Ernest Portage'\n",
            " 'Heininen, Miss. Wendla Maria' 'Mallet, Mr. Albert'\n",
            " 'Holm, Mr. John Fredrik Alexander' 'Skoog, Master. Karl Thorsten'\n",
            " 'Hays, Mrs. Charles Melville (Clara Jennings Gregg)' 'Lulic, Mr. Nikola'\n",
            " 'Reuchlin, Jonkheer. John George' 'Moor, Mrs. (Beila)'\n",
            " 'Panula, Master. Urho Abraham' 'Mallet, Master. Andre'\n",
            " 'Yasbeck, Mrs. Antoni (Selini Alexander)'\n",
            " 'Richards, Master. George Sibley' 'Augustsson, Mr. Albert'\n",
            " 'Allum, Mr. Owen George' 'Compton, Miss. Sara Rebecca' 'Pasic, Mr. Jakob'\n",
            " 'Chip, Mr. Chang' 'Alhomaki, Mr. Ilmari Rudolf'\n",
            " 'Mudd, Mr. Thomas Charles' 'Serepeca, Miss. Augusta'\n",
            " 'Lemberopolous, Mr. Peter L' 'Culumovic, Mr. Jeso' 'Abbing, Mr. Anthony'\n",
            " 'Markoff, Mr. Marin' 'Harper, Rev. John'\n",
            " 'Andersson, Master. Sigvard Harald Elias' 'Svensson, Mr. Johan'\n",
            " 'Boulos, Miss. Nourelain' 'Lines, Miss. Mary Conover'\n",
            " 'Carter, Mrs. Ernest Courtenay (Lilian Hughes)'\n",
            " 'Aks, Mrs. Sam (Leah Rosen)' 'Wick, Mrs. George Dennick (Mary Hitchcock)'\n",
            " 'Daly, Mr. Peter Denis ' 'Baclini, Mrs. Solomon (Latifa Qurban)'\n",
            " 'Hansen, Mr. Claus Peter' 'Giles, Mr. Frederick Edward'\n",
            " 'Swift, Mrs. Frederick Joel (Margaret Welles Barron)'\n",
            " 'Gill, Mr. John William' 'Bystrom, Mrs. (Karolina)'\n",
            " 'Duran y More, Miss. Asuncion' 'Roebling, Mr. Washington Augustus II'\n",
            " 'Johnson, Master. Harold Theodor' 'Balkic, Mr. Cerin'\n",
            " 'Beckwith, Mrs. Richard Leonard (Sallie Monypeny)'\n",
            " 'Carlsson, Mr. Frans Olof' 'Vander Cruyssen, Mr. Victor'\n",
            " 'Abelson, Mrs. Samuel (Hannah Wizosky)'\n",
            " 'Najib, Miss. Adele Kiamie \"Jane\"' 'Gustafsson, Mr. Alfred Ossian'\n",
            " 'Petroff, Mr. Nedelio' 'Potter, Mrs. Thomas Jr (Lily Alexenia Wilson)'\n",
            " 'Shelley, Mrs. William (Imanita Parrish Hall)' 'Markun, Mr. Johann'\n",
            " 'Dahlberg, Miss. Gerda Ulrika' 'Banfield, Mr. Frederick James'\n",
            " 'Sutehall, Mr. Henry Jr' 'Rice, Mrs. William (Margaret Norton)'\n",
            " 'Montvila, Rev. Juozas' 'Graham, Miss. Margaret Edith'\n",
            " 'Behr, Mr. Karl Howell' 'Dooley, Mr. Patrick']\n",
            "/n\n",
            "['male' 'female']\n",
            "/n\n",
            "[22.   38.   26.   35.   54.    2.   27.   14.    4.   58.   20.   39.\n",
            " 55.   31.   34.   15.   28.    8.   19.   40.   66.   42.   21.   18.\n",
            "  3.    7.   49.   29.   65.   28.5   5.   11.   45.   17.   32.   16.\n",
            " 25.    0.83 30.   33.   23.   24.   46.   59.   71.   37.   47.   14.5\n",
            " 70.5  32.5  12.    9.   36.5  51.   55.5  40.5  44.    1.   61.   56.\n",
            " 50.   36.   45.5  20.5  62.   41.   52.   63.   23.5   0.92 43.   60.\n",
            " 10.   64.   13.   48.    0.75 53.   57.   80.   70.   24.5   6.    0.67\n",
            " 30.5   0.42 34.5  74.  ]\n",
            "/n\n",
            "[1 0 3 4 2 5]\n",
            "/n\n",
            "[0 1 2 5 3 4 6]\n",
            "/n\n",
            "['A/5 21171' 'PC 17599' 'STON/O2. 3101282' '113803' '373450' '17463'\n",
            " '349909' '347742' '237736' 'PP 9549' '113783' 'A/5. 2151' '347082'\n",
            " '350406' '248706' '382652' '345763' '239865' '248698' '330923' '113788'\n",
            " '347077' '19950' 'PC 17601' 'C.A. 24579' 'PC 17604' '113789' 'A./5. 2152'\n",
            " '345764' '2651' '7546' '11668' 'SC/Paris 2123' '330958' '349237'\n",
            " '3101295' 'A/4. 39886' 'PC 17572' '2926' '113509' 'C.A. 31026' '2697'\n",
            " 'C.A. 34651' 'CA 2144' '2669' '36973' '347088' 'C.A. 29395' 'S.P. 3464'\n",
            " '3101281' '315151' 'C.A. 33111' 'S.O.C. 14879' '2680' '1601' '348123'\n",
            " '248738' '364516' '345767' '345779' '113059' 'SO/C 14885' '3101278'\n",
            " 'W./C. 6608' '343275' '343276' '347466' 'W.E.P. 5734' 'C.A. 2315'\n",
            " '364500' 'PC 17754' 'PC 17759' '231919' '244367' '349245' '35281' '7540'\n",
            " '3101276' '349207' '343120' '349249' '110465' '2665' '324669' '4136'\n",
            " '2627' 'STON/O 2. 3101294' '370369' 'PC 17558' '27267' 'C 17369' '347061'\n",
            " '349241' 'SOTON/O.Q. 3101307' 'A/5. 3337' '228414' 'C.A. 29178'\n",
            " 'SC/PARIS 2133' '11752' '7534' 'PC 17593' '347081' 'STON/O2. 3101279'\n",
            " '365222' '231945' 'C.A. 33112' '350043' '230080' '244310' 'S.O.P. 1166'\n",
            " '113776' 'A.5. 11206' 'A/5. 851' 'PC 17597' '35851' 'SOTON/OQ 392090'\n",
            " '371362' 'C.A. 33595' '347068' '315093' '363291' '111240'\n",
            " 'STON/O 2. 3101280' '17764' '350404' 'PC 17595' '250653' 'LINE' '230136'\n",
            " '315153' '111428' '364849' '349247' '234604' '28424' '350046' 'PC 17610'\n",
            " 'PC 17569' '4579' '248747' '345770' '3101264' '2628' 'A/5 3540' '347054'\n",
            " '2699' '367231' '112277' 'SOTON/O.Q. 3101311' 'F.C.C. 13528' 'A/5 21174'\n",
            " '250646' '35273' 'STON/O2. 3101283' '243847' '11813' 'W/C 14208'\n",
            " 'SOTON/OQ 392089' '220367' '21440' '19943' 'PP 4348' 'SW/PP 751'\n",
            " 'A/5 21173' '236171' '347067' '237442' 'C.A. 29566' '26707' 'C.A. 31921'\n",
            " '28665' 'SCO/W 1585' 'W./C. 14263' 'STON/O 2. 3101275' '2694' '19928'\n",
            " '347071' '250649' '11751' '244252' '113514' 'A/5. 3336' '370129' '2650'\n",
            " '110152' 'PC 17755' '230433' '110413' '112059' 'C.A. 17248' '347083'\n",
            " 'PC 17582' 'PC 17760' '250644' 'PC 17596' '13502' '347073' 'C.A. 2673'\n",
            " '336439' '347464' '345778' 'A/5. 10482' '349239' '345774' '349206'\n",
            " '237798' '370373' '19877' '11967' 'SC/Paris 2163' '349236' '349233'\n",
            " '2693' '113781' 'PC 17758' 'P/PP 3381' 'PC 17485' '11767' 'PC 17608'\n",
            " '250651' '349243' 'F.C.C. 13529' '347470' '29011' '36928' '16966'\n",
            " 'A/5 21172' '349219' '234818' '345364' '28551' '111361' '113043' '7598'\n",
            " '113784' '248740' '244361' '229236' '248733' '31418' 'C.A. 37671'\n",
            " '315088' '7267' '2695' '345783' '113505' '237671' 'SC/PARIS 2167' '2691'\n",
            " 'SOTON/O.Q. 3101310' 'C 7076' '110813' 'PC 17477' '11765' '3101267'\n",
            " '323951' 'C 7077' '113503' '2648' '347069' 'PC 17757' '2653'\n",
            " 'STON/O 2. 3101293' '27849' 'SC 1748' '113760' '350034' '3101277'\n",
            " '350052' '350407' '28403' '244278' '240929' 'STON/O 2. 3101289' '341826'\n",
            " '4137' '315096' '28664' '347064' '29106' '312992' 'STON/O 2. 3101269'\n",
            " '28220' '250652' '28228' '345773' 'A/5. 13032' '315082' '347080' '2003'\n",
            " '250655' 'SOTON/O.Q. 392078' '110564' 'SC/AH 3085' 'STON/O 2. 3101274'\n",
            " '13507' 'C.A. 18723' '345769' '347076' '230434' '33638' '113794' '2666'\n",
            " '113786' '113051' '17453' '349240' '13509' 'F.C.C. 13531' '19952'\n",
            " '364506' '111320' '234360' 'SOTON/O.Q. 3101306' '113792' '315089'\n",
            " 'SC/AH Basle 541' '7553' '31027' '3460' '350060' '3101298' 'A/5 3594'\n",
            " '4134' '11771' 'A.5. 18509' 'SOTON/OQ 3101317' '113787' 'PC 17609'\n",
            " 'A/4 45380' '36947' '350035' '315086' '364846' '4135' '26360' 'C 4001'\n",
            " '382651' 'PC 17473' 'PC 17603' '349209' '36967' 'C.A. 34260' '226875'\n",
            " '349242' '12749' '349252' '367232' 'W./C. 14258' '3101296' '29104' '2690'\n",
            " '315084' '113050' 'PC 17761' '13568' 'WE/P 5735' '2908' '693' '17421'\n",
            " '244358' '2620' '347085' '113807' '11755' '345572' '349251' '218629'\n",
            " 'A/4 48871' '349205' '350417' 'S.W./PP 752' '11769' 'PC 17474'\n",
            " 'A/4. 20589' '358585' '243880' 'STON/O 2. 3101286' '237789' '13049'\n",
            " '237565' '13567' '14973' 'STON/O 2. 3101273' 'A/5 3902' 'SC/AH 29037'\n",
            " '364511' '111426' '349910' '349246' '113804' '364512' '220845' '31028'\n",
            " '2659' '11753' '350029' '54636' '36963' '219533' '349224' '27042'\n",
            " '347743' '13214' '237668' 'STON/O 2. 3101292' '350050' '349231' '13213'\n",
            " 'CA. 2314' '8475' '365226' '29751' 'PC 17611' '2623' '5727' '349210'\n",
            " 'STON/O 2. 3101285' '234686' 'A/5 3536' '29750' 'F.C. 12750' 'C.A. 24580'\n",
            " '244270' '349912' '342826' '4138' '6563' '349228' '350036' '24160'\n",
            " '17474' '349256' '2672' '113800' '248731' '363592' '348121' 'PC 17475'\n",
            " '36864' '350025' '223596' 'PC 17476' 'PC 17482' '19996' '7545' '250647'\n",
            " '348124' '34218' '347062' '248727' '350048' '12233' '250643' '113806'\n",
            " '315094' '236853' 'STON/O2. 3101271' '28425' '233639' '376566'\n",
            " 'STON/O 2. 3101288' '250648' '113773' '335097' '29103' '392096' '345780'\n",
            " '349204' '350042' '29108' '363294' 'SOTON/O2 3101272' '2663' '347074'\n",
            " '364850' '8471' '345781' '350047' 'S.O./P.P. 3' '29105' '347078' '2687'\n",
            " '113501' 'SOTON/O.Q. 3101312' '374887' '3101265' '349203' '28213' '17465'\n",
            " '349244' '2685' '2625' '347089' '347063' '112050' '347087' '248723'\n",
            " '3474' '28206' '364499' 'STON/O2. 3101290' 'S.C./PARIS 2079' 'C 7075'\n",
            " '315098' '19972' '347468' '2223' 'PC 17756' '315097' 'SOTON/O2 3101287'\n",
            " '113798' '2683' '315090' 'C.A. 5547' '349213' '347060' '2678' 'PC 17592'\n",
            " '392091' '113055' '350026' '28134' '17466' '233866' '236852'\n",
            " 'SC/PARIS 2149' 'PC 17590' '349248' '695' '345765' '2667' '349212'\n",
            " '349257' '7552' 'C.A./SOTON 34068' 'SOTON/OQ 392076' '211536' '112053'\n",
            " '111369' '370376']\n",
            "/n\n",
            "[  7.25    71.2833   7.925   53.1      8.05    51.8625  21.075   11.1333\n",
            "  30.0708  16.7     26.55    31.275    7.8542  16.      29.125   18.\n",
            "  26.      13.       8.0292  35.5     31.3875 263.      27.7208  10.5\n",
            "  82.1708  52.      11.2417   9.475   21.      41.5792   7.8792  17.8\n",
            "  39.6875   7.8     76.7292  61.9792   7.2292  27.75    46.9     83.475\n",
            "  27.9      8.1583   8.6625  73.5     14.4542  56.4958   7.65    29.\n",
            "  12.475    9.       9.5     47.1     15.85    34.375   61.175   20.575\n",
            "  34.6542  63.3583  23.       7.8958  77.2875   8.6542   9.825   14.4583\n",
            "   7.75   247.5208   7.1417   6.975    7.05    14.5     15.0458  26.2833\n",
            "   9.2167  79.2      6.75    11.5     36.75     7.7958  12.525   66.6\n",
            "  61.3792   7.7333  16.1     15.75     7.775   20.525   33.5     30.6958\n",
            "  28.7125   0.      39.      22.025   15.5    146.5208   8.4042   6.4958\n",
            "   7.225   10.4625  18.7875  31.     113.275   27.      76.2917  90.\n",
            "   9.35    13.5     26.25    12.275    7.125   52.5542  20.2125  15.2458\n",
            "  86.5    512.3292  79.65   153.4625 135.6333  19.5     29.7     77.9583\n",
            "  20.25    78.85    91.0792  12.875    8.85   151.55   108.9     24.\n",
            "  56.9292  83.1583 262.375   14.     164.8667 134.5     12.35     6.2375\n",
            "  57.9792  28.5     15.9      9.225   55.      75.25    69.3     55.4417\n",
            " 211.5      4.0125 227.525   15.7417  12.     120.      12.65    18.75\n",
            "  32.5     24.15     7.875   14.4     55.9     81.8583  19.2583  30.5\n",
            "  89.1042  38.5     13.7917   9.8375   7.0458   7.5208  12.2875   9.5875\n",
            "  49.5042  78.2667  22.525   26.2875  59.4      7.4958  34.0208  93.5\n",
            " 106.425   49.5     71.     110.8833  39.6     17.4     51.4792  26.3875\n",
            "  30.      40.125   15.      15.55    65.      32.3208   7.0542   7.55\n",
            "   8.4333 133.65    25.5875   9.8417  10.1708 211.3375  57.      13.4167\n",
            "   7.7417   9.4833  33.       8.3625  25.9292   8.6833   8.5167   7.8875\n",
            "  37.0042   6.45     8.3      6.4375  39.4     14.1083  13.8583  50.4958\n",
            "   5.       9.8458  10.5167]\n",
            "/n\n",
            "['S' 'C' 'Q']\n"
          ],
          "name": "stdout"
        }
      ]
    },
    {
      "cell_type": "code",
      "metadata": {
        "id": "eJifuJxoTtgU",
        "colab_type": "code",
        "colab": {
          "base_uri": "https://localhost:8080/",
          "height": 1000
        },
        "outputId": "3c7ea471-9ff1-417f-9db8-88554d1faa27"
      },
      "source": [
        "#checking for outliers in our dataset\n",
        "import matplotlib.pyplot as plt\n",
        "import seaborn as sns\n",
        "\n",
        "col_names = numeric_clmns =tdf.dtypes[tdf.dtypes != \"object\" ].index\n",
        "\n",
        "fig, ax = plt.subplots(len(col_names), figsize=(8,60))\n",
        "\n",
        "for i, col_val in enumerate(col_names):\n",
        "\n",
        "    sns.boxplot(y=tdf[col_val], ax=ax[i])\n",
        "    ax[i].set_title('Box plot - {}'.format(col_val), fontsize=10)\n",
        "    ax[i].set_xlabel(col_val, fontsize=8)\n",
        "\n",
        "plt.tight_layout()\n",
        "plt.show()\n"
      ],
      "execution_count": 20,
      "outputs": [
        {
          "output_type": "stream",
          "text": [
            "/usr/local/lib/python3.6/dist-packages/statsmodels/tools/_testing.py:19: FutureWarning: pandas.util.testing is deprecated. Use the functions in the public API at pandas.testing instead.\n",
            "  import pandas.util.testing as tm\n"
          ],
          "name": "stderr"
        },
        {
          "output_type": "display_data",
          "data": {
            "image/png": "[encoded data removed]",
            "text/plain": [
              "<Figure size 576x4320 with 7 Axes>"
            ]
          },
          "metadata": {
            "tags": [],
            "needs_background": "light"
          }
        }
      ]
    },
    {
      "cell_type": "markdown",
      "metadata": {
        "id": "vrw-SipFaKPO",
        "colab_type": "text"
      },
      "source": [
        "# EDA"
      ]
    },
    {
      "cell_type": "markdown",
      "metadata": {
        "id": "dz-TzTMZaOBP",
        "colab_type": "text"
      },
      "source": [
        "## Univariate analysis"
      ]
    },
    {
      "cell_type": "markdown",
      "metadata": {
        "id": "z3oz4I99aUcR",
        "colab_type": "text"
      },
      "source": [
        "## Histograms"
      ]
    },
    {
      "cell_type": "code",
      "metadata": {
        "id": "aiL0Nt0iWKpA",
        "colab_type": "code",
        "colab": {
          "base_uri": "https://localhost:8080/",
          "height": 833
        },
        "outputId": "9aff3649-ae35-46f8-f5de-4082bc25077c"
      },
      "source": [
        "tdf.hist(bins=50,figsize=(20,15))\n",
        "plt.show()"
      ],
      "execution_count": 22,
      "outputs": [
        {
          "output_type": "display_data",
          "data": {
            "image/png": "[encoded data removed]",
            "text/plain": [
              "<Figure size 1440x1080 with 9 Axes>"
            ]
          },
          "metadata": {
            "tags": [],
            "needs_background": "light"
          }
        }
      ]
    },
    {
      "cell_type": "markdown",
      "metadata": {
        "id": "r6nByDV8bwAe",
        "colab_type": "text"
      },
      "source": [
        "# Frequency distribution"
      ]
    },
    {
      "cell_type": "code",
      "metadata": {
        "id": "jUTX2LeMapd_",
        "colab_type": "code",
        "colab": {
          "base_uri": "https://localhost:8080/",
          "height": 433
        },
        "outputId": "a2d331be-33a4-48a6-e31e-2fe4d70812bc"
      },
      "source": [
        "\n",
        "# Checking for the frequency distribution of the sex variable Using a bar plot.\n",
        "\n",
        "fig, ax = plt.subplots(figsize = (8, 6))\n",
        "\n",
        "tdf['Sex'].value_counts().plot.bar(title = 'Frequency Distribution of Sex')\n",
        "plt.xlabel('Sex', color = 'black', fontsize = 14)\n",
        "plt.ylabel('Frequency', color = 'black', fontsize = 14)\n",
        "plt.show()"
      ],
      "execution_count": 24,
      "outputs": [
        {
          "output_type": "display_data",
          "data": {
            "image/png": "[encoded data removed]",
            "text/plain": [
              "<Figure size 576x432 with 1 Axes>"
            ]
          },
          "metadata": {
            "tags": [],
            "needs_background": "light"
          }
        }
      ]
    },
    {
      "cell_type": "markdown",
      "metadata": {
        "id": "bBFZjJ4Cdnnv",
        "colab_type": "text"
      },
      "source": [
        "Most of the passengers aboard were male as seen above."
      ]
    },
    {
      "cell_type": "code",
      "metadata": {
        "id": "kuNdaj0Qb_Ze",
        "colab_type": "code",
        "colab": {
          "base_uri": "https://localhost:8080/",
          "height": 404
        },
        "outputId": "e5a526a4-9bfe-454c-aa27-604ae7b42982"
      },
      "source": [
        "# Checking for the frequency distribution of our target variable Using a bar plot.\n",
        "\n",
        "fig, ax = plt.subplots(figsize = (8, 6))\n",
        "\n",
        "tdf['Pclass'].value_counts().plot.bar(title = 'Pclass_status')\n",
        "plt.xlabel('Pclass', color = 'black', fontsize = 14)\n",
        "plt.ylabel('Frequency', color = 'black', fontsize = 14)\n",
        "plt.show()"
      ],
      "execution_count": 25,
      "outputs": [
        {
          "output_type": "display_data",
          "data": {
            "image/png": "[encoded data removed]",
            "text/plain": [
              "<Figure size 576x432 with 1 Axes>"
            ]
          },
          "metadata": {
            "tags": [],
            "needs_background": "light"
          }
        }
      ]
    },
    {
      "cell_type": "markdown",
      "metadata": {
        "id": "G5hegFLRdyAp",
        "colab_type": "text"
      },
      "source": [
        "Most of the passengers took the Pclass 3"
      ]
    },
    {
      "cell_type": "code",
      "metadata": {
        "id": "vlSqP0kCcm5-",
        "colab_type": "code",
        "colab": {
          "base_uri": "https://localhost:8080/",
          "height": 406
        },
        "outputId": "989d8f70-2f8d-4627-ef79-4cf30adf2143"
      },
      "source": [
        "# Checking for the frequency distribution of our target variable Using a bar plot.\n",
        "\n",
        "fig, ax = plt.subplots(figsize = (8, 6))\n",
        "\n",
        "tdf['Embarked'].value_counts().plot.bar(title = 'Embarked_status')\n",
        "plt.xlabel('Embarked', color = 'black', fontsize = 14)\n",
        "plt.ylabel('Frequency', color = 'black', fontsize = 14)\n",
        "plt.show()"
      ],
      "execution_count": 26,
      "outputs": [
        {
          "output_type": "display_data",
          "data": {
            "image/png": "[encoded data removed]",
            "text/plain": [
              "<Figure size 576x432 with 1 Axes>"
            ]
          },
          "metadata": {
            "tags": [],
            "needs_background": "light"
          }
        }
      ]
    },
    {
      "cell_type": "markdown",
      "metadata": {
        "id": "YqwadpT_eSax",
        "colab_type": "text"
      },
      "source": [
        "## Bivariate analysis "
      ]
    },
    {
      "cell_type": "code",
      "metadata": {
        "id": "VTqUWG1acvAD",
        "colab_type": "code",
        "colab": {
          "base_uri": "https://localhost:8080/",
          "height": 611
        },
        "outputId": "6c037286-3386-4aa4-c179-d3dadbcca38c"
      },
      "source": [
        "#checking for correlation using spearman method\n",
        "plt.figure(figsize=(12,9))\n",
        "cor=tdf.corr(method = 'spearman')\n",
        "sns.heatmap(cor, xticklabels=cor.columns, yticklabels=cor.columns, annot = True)\n",
        "plt.xticks( rotation=45)\n",
        "plt.title('Correlation between variables')\n",
        "plt.show"
      ],
      "execution_count": 27,
      "outputs": [
        {
          "output_type": "execute_result",
          "data": {
            "text/plain": [
              "<function matplotlib.pyplot.show>"
            ]
          },
          "metadata": {
            "tags": []
          },
          "execution_count": 27
        },
        {
          "output_type": "display_data",
          "data": {
            "image/png": "[encoded data removed]",
            "text/plain": [
              "<Figure size 864x648 with 2 Axes>"
            ]
          },
          "metadata": {
            "tags": [],
            "needs_background": "light"
          }
        }
      ]
    },
    {
      "cell_type": "markdown",
      "metadata": {
        "id": "Zw-zJXA_fkI2",
        "colab_type": "text"
      },
      "source": [
        "# Feature engineering"
      ]
    },
    {
      "cell_type": "code",
      "metadata": {
        "id": "yw_TgpzzeoAq",
        "colab_type": "code",
        "colab": {}
      },
      "source": [
        "# Get values that we can work with during classification\n",
        "#\n",
        "tdf = pd.get_dummies(tdf, columns=['Sex','Embarked'])"
      ],
      "execution_count": 28,
      "outputs": []
    },
    {
      "cell_type": "code",
      "metadata": {
        "id": "O7FhTF1KgCrB",
        "colab_type": "code",
        "colab": {
          "base_uri": "https://localhost:8080/",
          "height": 380
        },
        "outputId": "83e4263d-390b-4ca2-d53f-0e5ae40a6aeb"
      },
      "source": [
        "# Preview of our data\n",
        "# --------\n",
        "\n",
        "tdf.head()"
      ],
      "execution_count": 29,
      "outputs": [
        {
          "output_type": "execute_result",
          "data": {
            "text/html": [
              "<div>\n",
              "<style scoped>\n",
              "    .dataframe tbody tr th:only-of-type {\n",
              "        vertical-align: middle;\n",
              "    }\n",
              "\n",
              "    .dataframe tbody tr th {\n",
              "        vertical-align: top;\n",
              "    }\n",
              "\n",
              "    .dataframe thead th {\n",
              "        text-align: right;\n",
              "    }\n",
              "</style>\n",
              "<table border=\"1\" class=\"dataframe\">\n",
              "  <thead>\n",
              "    <tr style=\"text-align: right;\">\n",
              "      <th></th>\n",
              "      <th>PassengerId</th>\n",
              "      <th>Survived</th>\n",
              "      <th>Pclass</th>\n",
              "      <th>Name</th>\n",
              "      <th>Age</th>\n",
              "      <th>SibSp</th>\n",
              "      <th>Parch</th>\n",
              "      <th>Ticket</th>\n",
              "      <th>Fare</th>\n",
              "      <th>Sex_female</th>\n",
              "      <th>Sex_male</th>\n",
              "      <th>Embarked_C</th>\n",
              "      <th>Embarked_Q</th>\n",
              "      <th>Embarked_S</th>\n",
              "    </tr>\n",
              "  </thead>\n",
              "  <tbody>\n",
              "    <tr>\n",
              "      <th>0</th>\n",
              "      <td>1</td>\n",
              "      <td>0</td>\n",
              "      <td>3</td>\n",
              "      <td>Braund, Mr. Owen Harris</td>\n",
              "      <td>22.0</td>\n",
              "      <td>1</td>\n",
              "      <td>0</td>\n",
              "      <td>A/5 21171</td>\n",
              "      <td>7.2500</td>\n",
              "      <td>0</td>\n",
              "      <td>1</td>\n",
              "      <td>0</td>\n",
              "      <td>0</td>\n",
              "      <td>1</td>\n",
              "    </tr>\n",
              "    <tr>\n",
              "      <th>1</th>\n",
              "      <td>2</td>\n",
              "      <td>1</td>\n",
              "      <td>1</td>\n",
              "      <td>Cumings, Mrs. John Bradley (Florence Briggs Th...</td>\n",
              "      <td>38.0</td>\n",
              "      <td>1</td>\n",
              "      <td>0</td>\n",
              "      <td>PC 17599</td>\n",
              "      <td>71.2833</td>\n",
              "      <td>1</td>\n",
              "      <td>0</td>\n",
              "      <td>1</td>\n",
              "      <td>0</td>\n",
              "      <td>0</td>\n",
              "    </tr>\n",
              "    <tr>\n",
              "      <th>2</th>\n",
              "      <td>3</td>\n",
              "      <td>1</td>\n",
              "      <td>3</td>\n",
              "      <td>Heikkinen, Miss. Laina</td>\n",
              "      <td>26.0</td>\n",
              "      <td>0</td>\n",
              "      <td>0</td>\n",
              "      <td>STON/O2. 3101282</td>\n",
              "      <td>7.9250</td>\n",
              "      <td>1</td>\n",
              "      <td>0</td>\n",
              "      <td>0</td>\n",
              "      <td>0</td>\n",
              "      <td>1</td>\n",
              "    </tr>\n",
              "    <tr>\n",
              "      <th>3</th>\n",
              "      <td>4</td>\n",
              "      <td>1</td>\n",
              "      <td>1</td>\n",
              "      <td>Futrelle, Mrs. Jacques Heath (Lily May Peel)</td>\n",
              "      <td>35.0</td>\n",
              "      <td>1</td>\n",
              "      <td>0</td>\n",
              "      <td>113803</td>\n",
              "      <td>53.1000</td>\n",
              "      <td>1</td>\n",
              "      <td>0</td>\n",
              "      <td>0</td>\n",
              "      <td>0</td>\n",
              "      <td>1</td>\n",
              "    </tr>\n",
              "    <tr>\n",
              "      <th>4</th>\n",
              "      <td>5</td>\n",
              "      <td>0</td>\n",
              "      <td>3</td>\n",
              "      <td>Allen, Mr. William Henry</td>\n",
              "      <td>35.0</td>\n",
              "      <td>0</td>\n",
              "      <td>0</td>\n",
              "      <td>373450</td>\n",
              "      <td>8.0500</td>\n",
              "      <td>0</td>\n",
              "      <td>1</td>\n",
              "      <td>0</td>\n",
              "      <td>0</td>\n",
              "      <td>1</td>\n",
              "    </tr>\n",
              "  </tbody>\n",
              "</table>\n",
              "</div>"
            ],
            "text/plain": [
              "   PassengerId  Survived  Pclass  ... Embarked_C  Embarked_Q  Embarked_S\n",
              "0            1         0       3  ...          0           0           1\n",
              "1            2         1       1  ...          1           0           0\n",
              "2            3         1       3  ...          0           0           1\n",
              "3            4         1       1  ...          0           0           1\n",
              "4            5         0       3  ...          0           0           1\n",
              "\n",
              "[5 rows x 14 columns]"
            ]
          },
          "metadata": {
            "tags": []
          },
          "execution_count": 29
        }
      ]
    },
    {
      "cell_type": "markdown",
      "metadata": {
        "id": "NW-r4K1LiFW5",
        "colab_type": "text"
      },
      "source": [
        "# Modelling "
      ]
    },
    {
      "cell_type": "code",
      "metadata": {
        "id": "bXNGXmHYiDA6",
        "colab_type": "code",
        "colab": {
          "base_uri": "https://localhost:8080/",
          "height": 88
        },
        "outputId": "a0d849dd-22b8-4fb5-8bdb-da36379af06f"
      },
      "source": [
        "tdf.columns"
      ],
      "execution_count": 30,
      "outputs": [
        {
          "output_type": "execute_result",
          "data": {
            "text/plain": [
              "Index(['PassengerId', 'Survived', 'Pclass', 'Name', 'Age', 'SibSp', 'Parch',\n",
              "       'Ticket', 'Fare', 'Sex_female', 'Sex_male', 'Embarked_C', 'Embarked_Q',\n",
              "       'Embarked_S'],\n",
              "      dtype='object')"
            ]
          },
          "metadata": {
            "tags": []
          },
          "execution_count": 30
        }
      ]
    },
    {
      "cell_type": "code",
      "metadata": {
        "id": "QlC0ALXKiKvx",
        "colab_type": "code",
        "colab": {}
      },
      "source": [
        "X = tdf[[ 'Pclass','Age', 'SibSp', 'Parch','Fare', 'Sex_female', 'Sex_male', 'Embarked_C', 'Embarked_Q', 'Embarked_S']]\n",
        "y = tdf[['Survived']]"
      ],
      "execution_count": 32,
      "outputs": []
    },
    {
      "cell_type": "code",
      "metadata": {
        "id": "ZwPt1h5_iSja",
        "colab_type": "code",
        "colab": {}
      },
      "source": [
        "from sklearn import datasets\n",
        "from sklearn.model_selection import train_test_split\n",
        "from sklearn.metrics import accuracy_score\n",
        "from sklearn.metrics import confusion_matrix\n",
        "from sklearn.model_selection import KFold\n",
        "from sklearn.model_selection import GridSearchCV\n",
        "from sklearn.neighbors import KNeighborsClassifier\n",
        "import warnings\n",
        "warnings.filterwarnings('ignore')"
      ],
      "execution_count": 47,
      "outputs": []
    },
    {
      "cell_type": "markdown",
      "metadata": {
        "id": "YBzBBm70l7Dn",
        "colab_type": "text"
      },
      "source": [
        "## Unsplit data"
      ]
    },
    {
      "cell_type": "code",
      "metadata": {
        "id": "-Q8MhcRck4so",
        "colab_type": "code",
        "colab": {
          "base_uri": "https://localhost:8080/",
          "height": 230
        },
        "outputId": "1a557962-8b83-4311-dbf3-c53834669c31"
      },
      "source": [
        "# fitting data into the classifier\n",
        "classifier = KNeighborsClassifier(n_neighbors = 5)\n",
        "classifier.fit(X, y)\n",
        "\n",
        "# our predictions\n",
        "y_pred = classifier.predict(X)\n",
        "\n",
        "# evaluating the classifier\n",
        "from sklearn.metrics import accuracy_score, classification_report, confusion_matrix\n",
        "print(\"The accuracy score is:\",accuracy_score(y, y_pred))\n",
        "\n",
        "print(confusion_matrix(y, y_pred))\n",
        "print(classification_report(y, y_pred))"
      ],
      "execution_count": 39,
      "outputs": [
        {
          "output_type": "stream",
          "text": [
            "The accuracy score is: 0.8019662921348315\n",
            "[[369  55]\n",
            " [ 86 202]]\n",
            "              precision    recall  f1-score   support\n",
            "\n",
            "           0       0.81      0.87      0.84       424\n",
            "           1       0.79      0.70      0.74       288\n",
            "\n",
            "    accuracy                           0.80       712\n",
            "   macro avg       0.80      0.79      0.79       712\n",
            "weighted avg       0.80      0.80      0.80       712\n",
            "\n"
          ],
          "name": "stdout"
        }
      ]
    },
    {
      "cell_type": "markdown",
      "metadata": {
        "id": "3NeFsdCOmB_A",
        "colab_type": "text"
      },
      "source": [
        "## Split data "
      ]
    },
    {
      "cell_type": "markdown",
      "metadata": {
        "id": "F30s9SrgmFnR",
        "colab_type": "text"
      },
      "source": [
        "80/20"
      ]
    },
    {
      "cell_type": "code",
      "metadata": {
        "id": "A39NrujFk64k",
        "colab_type": "code",
        "colab": {
          "base_uri": "https://localhost:8080/",
          "height": 230
        },
        "outputId": "26545133-1fc7-4164-b297-c236c1ad0fef"
      },
      "source": [
        "X_train, X_test, y_train, y_test = train_test_split(X, y, test_size=0.20)\n",
        "\n",
        "#fitting and scaling\n",
        "from sklearn.preprocessing import StandardScaler\n",
        "scaler = StandardScaler()\n",
        "scaler.fit(X_train)\n",
        "\n",
        "X_train = scaler.transform(X_train)\n",
        "X_test = scaler.transform(X_test)\n",
        "\n",
        "model = KNeighborsClassifier()\n",
        "model.fit(X_train, y_train)\n",
        "\n",
        "y_pred = model.predict(X_test)\n",
        "\n",
        "# Summary of the predictions made by the classifier\n",
        "\n",
        "print(classification_report(y_test, y_pred))\n",
        "print(confusion_matrix(y_test, y_pred))\n",
        "\n",
        "# Accuracy score\n",
        "\n",
        "print('The accuracy score is :',accuracy_score(y_pred,y_test))"
      ],
      "execution_count": 42,
      "outputs": [
        {
          "output_type": "stream",
          "text": [
            "              precision    recall  f1-score   support\n",
            "\n",
            "           0       0.82      0.76      0.79        89\n",
            "           1       0.65      0.72      0.68        54\n",
            "\n",
            "    accuracy                           0.75       143\n",
            "   macro avg       0.73      0.74      0.74       143\n",
            "weighted avg       0.76      0.75      0.75       143\n",
            "\n",
            "[[68 21]\n",
            " [15 39]]\n",
            "The accuracy score is : 0.7482517482517482\n"
          ],
          "name": "stdout"
        }
      ]
    },
    {
      "cell_type": "markdown",
      "metadata": {
        "id": "aoxnVcncoJab",
        "colab_type": "text"
      },
      "source": [
        "70/30"
      ]
    },
    {
      "cell_type": "code",
      "metadata": {
        "id": "J4mO25-Jl1xD",
        "colab_type": "code",
        "colab": {
          "base_uri": "https://localhost:8080/",
          "height": 230
        },
        "outputId": "d640ce11-ac3e-4ee0-8f5e-942a5b074959"
      },
      "source": [
        "X_train, X_test, y_train, y_test = train_test_split(X, y, test_size=0.30)\n",
        "\n",
        "#fitting and scaling\n",
        "from sklearn.preprocessing import StandardScaler\n",
        "scaler = StandardScaler()\n",
        "scaler.fit(X_train)\n",
        "\n",
        "X_train = scaler.transform(X_train)\n",
        "X_test = scaler.transform(X_test)\n",
        "\n",
        "model = KNeighborsClassifier()\n",
        "model.fit(X_train, y_train)\n",
        "\n",
        "y_pred = model.predict(X_test)\n",
        "\n",
        "# Summary of the predictions made by the classifier\n",
        "\n",
        "print(classification_report(y_test, y_pred))\n",
        "print(confusion_matrix(y_test, y_pred))\n",
        "\n",
        "# Accuracy score\n",
        "\n",
        "print('The accuracy score is :',accuracy_score(y_pred,y_test))"
      ],
      "execution_count": 43,
      "outputs": [
        {
          "output_type": "stream",
          "text": [
            "              precision    recall  f1-score   support\n",
            "\n",
            "           0       0.80      0.84      0.82       128\n",
            "           1       0.74      0.70      0.72        86\n",
            "\n",
            "    accuracy                           0.78       214\n",
            "   macro avg       0.77      0.77      0.77       214\n",
            "weighted avg       0.78      0.78      0.78       214\n",
            "\n",
            "[[107  21]\n",
            " [ 26  60]]\n",
            "The accuracy score is : 0.780373831775701\n"
          ],
          "name": "stdout"
        }
      ]
    },
    {
      "cell_type": "markdown",
      "metadata": {
        "id": "43ubF8iAoc2O",
        "colab_type": "text"
      },
      "source": [
        "60/40"
      ]
    },
    {
      "cell_type": "code",
      "metadata": {
        "id": "uMbxjuvbn_FP",
        "colab_type": "code",
        "colab": {
          "base_uri": "https://localhost:8080/",
          "height": 230
        },
        "outputId": "deecd466-3a65-41ab-cc9b-0e0478afaf69"
      },
      "source": [
        "X_train, X_test, y_train, y_test = train_test_split(X, y, test_size=0.40)\n",
        "\n",
        "#fitting and scaling\n",
        "from sklearn.preprocessing import StandardScaler\n",
        "scaler = StandardScaler()\n",
        "scaler.fit(X_train)\n",
        "\n",
        "X_train = scaler.transform(X_train)\n",
        "X_test = scaler.transform(X_test)\n",
        "\n",
        "model = KNeighborsClassifier()\n",
        "model.fit(X_train, y_train)\n",
        "\n",
        "y_pred = model.predict(X_test)\n",
        "\n",
        "# Summary of the predictions made by the classifier\n",
        "\n",
        "print(classification_report(y_test, y_pred))\n",
        "print(confusion_matrix(y_test, y_pred))\n",
        "\n",
        "# Accuracy score\n",
        "\n",
        "print('The accuracy score is :',accuracy_score(y_pred,y_test))"
      ],
      "execution_count": 44,
      "outputs": [
        {
          "output_type": "stream",
          "text": [
            "              precision    recall  f1-score   support\n",
            "\n",
            "           0       0.83      0.87      0.85       169\n",
            "           1       0.79      0.73      0.76       116\n",
            "\n",
            "    accuracy                           0.81       285\n",
            "   macro avg       0.81      0.80      0.80       285\n",
            "weighted avg       0.81      0.81      0.81       285\n",
            "\n",
            "[[147  22]\n",
            " [ 31  85]]\n",
            "The accuracy score is : 0.8140350877192982\n"
          ],
          "name": "stdout"
        }
      ]
    },
    {
      "cell_type": "markdown",
      "metadata": {
        "id": "THwV1SijpxZD",
        "colab_type": "text"
      },
      "source": [
        "## Optimizing "
      ]
    },
    {
      "cell_type": "markdown",
      "metadata": {
        "id": "8p7H22_FtDbE",
        "colab_type": "text"
      },
      "source": [
        "Below is a list of ways how we can optimize our model:\n",
        "> * Dimensionality Reduction with Linear Discriminant Analysis\n",
        "\n",
        "> * Distance Metric\n",
        "\n",
        "We will use the distance metric method.\n"
      ]
    },
    {
      "cell_type": "markdown",
      "metadata": {
        "id": "xIMYJx-wuF3n",
        "colab_type": "text"
      },
      "source": [
        "Distance metric"
      ]
    },
    {
      "cell_type": "code",
      "metadata": {
        "id": "yOLk7HTSoC60",
        "colab_type": "code",
        "colab": {
          "base_uri": "https://localhost:8080/",
          "height": 212
        },
        "outputId": "0d21f759-763c-4526-b2e6-945c542d87a1"
      },
      "source": [
        "model = KNeighborsClassifier()\n",
        "knn_range = list(range(1,10))\n",
        "weights_options = ['uniform','distance']\n",
        "knn_grid = dict(n_neighbors=knn_range, weights = weights_options)\n",
        "grid_search = GridSearchCV(model, knn_grid, cv=10, scoring = 'precision')\n",
        "grid_search.fit(X_train, y_train)"
      ],
      "execution_count": 56,
      "outputs": [
        {
          "output_type": "execute_result",
          "data": {
            "text/plain": [
              "GridSearchCV(cv=10, error_score=nan,\n",
              "             estimator=KNeighborsClassifier(algorithm='auto', leaf_size=30,\n",
              "                                            metric='minkowski',\n",
              "                                            metric_params=None, n_jobs=None,\n",
              "                                            n_neighbors=5, p=2,\n",
              "                                            weights='uniform'),\n",
              "             iid='deprecated', n_jobs=None,\n",
              "             param_grid={'n_neighbors': [1, 2, 3, 4, 5, 6, 7, 8, 9],\n",
              "                         'weights': ['uniform', 'distance']},\n",
              "             pre_dispatch='2*n_jobs', refit=True, return_train_score=False,\n",
              "             scoring='precision', verbose=0)"
            ]
          },
          "metadata": {
            "tags": []
          },
          "execution_count": 56
        }
      ]
    },
    {
      "cell_type": "code",
      "metadata": {
        "id": "EO6xMZz1rYfy",
        "colab_type": "code",
        "colab": {
          "base_uri": "https://localhost:8080/",
          "height": 106
        },
        "outputId": "a4590478-932d-4bde-b10d-a62a08113605"
      },
      "source": [
        "print (\"Best Accuracy Score: \",str(grid_search.best_score_))\n",
        "print (\"Best Parameters: \",str(grid_search.best_params_))\n",
        "print (\"Best Estimators: \",str(grid_search.best_estimator_))"
      ],
      "execution_count": 58,
      "outputs": [
        {
          "output_type": "stream",
          "text": [
            "Best Accuracy Score:  0.7990005827505826\n",
            "Best Parameters:  {'n_neighbors': 2, 'weights': 'uniform'}\n",
            "Best Estimators:  KNeighborsClassifier(algorithm='auto', leaf_size=30, metric='minkowski',\n",
            "                     metric_params=None, n_jobs=None, n_neighbors=2, p=2,\n",
            "                     weights='uniform')\n"
          ],
          "name": "stdout"
        }
      ]
    },
    {
      "cell_type": "code",
      "metadata": {
        "id": "nmbNtXkWrlMi",
        "colab_type": "code",
        "colab": {}
      },
      "source": [
        "y_pred = grid_search.predict(X_test)"
      ],
      "execution_count": 60,
      "outputs": []
    },
    {
      "cell_type": "code",
      "metadata": {
        "id": "-tS-HG8GsF2v",
        "colab_type": "code",
        "colab": {
          "base_uri": "https://localhost:8080/",
          "height": 35
        },
        "outputId": "0d1cb465-ea30-499d-f371-6290b09a735b"
      },
      "source": [
        "#calculation of accuracy\n",
        "\n",
        "print('The accuracy :',accuracy_score(y_pred,y_test))"
      ],
      "execution_count": 61,
      "outputs": [
        {
          "output_type": "stream",
          "text": [
            "The accuracy : 0.7859649122807018\n"
          ],
          "name": "stdout"
        }
      ]
    },
    {
      "cell_type": "markdown",
      "metadata": {
        "id": "UOjZTkHkubff",
        "colab_type": "text"
      },
      "source": [
        "# Conclusion."
      ]
    },
    {
      "cell_type": "markdown",
      "metadata": {
        "id": "KufPUqLzvHaz",
        "colab_type": "text"
      },
      "source": [
        "The following is a summary of the accuracy score of various models:\n",
        "\n",
        "* Unsplit data - 80.19%\n",
        "* Split data \n",
        "\n",
        "    - 80/20 - 74.82%\n",
        "    - 70/30 - 78.03%\n",
        "    - 60/40 - 81.40%\n",
        "\n",
        "* Optimized model - 78.59%\n",
        "\n",
        "From our summary,we can see that the datasplit on a 60/40 ratio is the best model.\n"
      ]
    }
  ]
}